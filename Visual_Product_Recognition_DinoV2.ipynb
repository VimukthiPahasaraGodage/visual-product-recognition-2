{
  "cells": [
    {
      "cell_type": "markdown",
      "source": [
        "#### Install necessary packages"
      ],
      "metadata": {
        "id": "O5bfHg1TZ5ae"
      }
    },
    {
      "cell_type": "code",
      "source": [
        "!pip install transformers"
      ],
      "metadata": {
        "colab": {
          "base_uri": "https://localhost:8080/"
        },
        "id": "B79UVf-4-xVE",
        "outputId": "68a6512e-b1b7-4451-c92c-fba7a46545ee"
      },
      "execution_count": null,
      "outputs": [
        {
          "output_type": "stream",
          "name": "stdout",
          "text": [
            "Collecting transformers\n",
            "  Downloading transformers-4.34.0-py3-none-any.whl (7.7 MB)\n",
            "\u001b[2K     \u001b[90m━━━━━━━━━━━━━━━━━━━━━━━━━━━━━━━━━━━━━━━━\u001b[0m \u001b[32m7.7/7.7 MB\u001b[0m \u001b[31m54.1 MB/s\u001b[0m eta \u001b[36m0:00:00\u001b[0m\n",
            "\u001b[?25hRequirement already satisfied: filelock in /usr/local/lib/python3.10/dist-packages (from transformers) (3.12.4)\n",
            "Collecting huggingface-hub<1.0,>=0.16.4 (from transformers)\n",
            "  Downloading huggingface_hub-0.17.3-py3-none-any.whl (295 kB)\n",
            "\u001b[2K     \u001b[90m━━━━━━━━━━━━━━━━━━━━━━━━━━━━━━━━━━━━━━\u001b[0m \u001b[32m295.0/295.0 kB\u001b[0m \u001b[31m38.4 MB/s\u001b[0m eta \u001b[36m0:00:00\u001b[0m\n",
            "\u001b[?25hRequirement already satisfied: numpy>=1.17 in /usr/local/lib/python3.10/dist-packages (from transformers) (1.23.5)\n",
            "Requirement already satisfied: packaging>=20.0 in /usr/local/lib/python3.10/dist-packages (from transformers) (23.1)\n",
            "Requirement already satisfied: pyyaml>=5.1 in /usr/local/lib/python3.10/dist-packages (from transformers) (6.0.1)\n",
            "Requirement already satisfied: regex!=2019.12.17 in /usr/local/lib/python3.10/dist-packages (from transformers) (2023.6.3)\n",
            "Requirement already satisfied: requests in /usr/local/lib/python3.10/dist-packages (from transformers) (2.31.0)\n",
            "Collecting tokenizers<0.15,>=0.14 (from transformers)\n",
            "  Downloading tokenizers-0.14.0-cp310-cp310-manylinux_2_17_x86_64.manylinux2014_x86_64.whl (3.8 MB)\n",
            "\u001b[2K     \u001b[90m━━━━━━━━━━━━━━━━━━━━━━━━━━━━━━━━━━━━━━━━\u001b[0m \u001b[32m3.8/3.8 MB\u001b[0m \u001b[31m108.1 MB/s\u001b[0m eta \u001b[36m0:00:00\u001b[0m\n",
            "\u001b[?25hCollecting safetensors>=0.3.1 (from transformers)\n",
            "  Downloading safetensors-0.3.3-cp310-cp310-manylinux_2_17_x86_64.manylinux2014_x86_64.whl (1.3 MB)\n",
            "\u001b[2K     \u001b[90m━━━━━━━━━━━━━━━━━━━━━━━━━━━━━━━━━━━━━━━━\u001b[0m \u001b[32m1.3/1.3 MB\u001b[0m \u001b[31m90.3 MB/s\u001b[0m eta \u001b[36m0:00:00\u001b[0m\n",
            "\u001b[?25hRequirement already satisfied: tqdm>=4.27 in /usr/local/lib/python3.10/dist-packages (from transformers) (4.66.1)\n",
            "Requirement already satisfied: fsspec in /usr/local/lib/python3.10/dist-packages (from huggingface-hub<1.0,>=0.16.4->transformers) (2023.6.0)\n",
            "Requirement already satisfied: typing-extensions>=3.7.4.3 in /usr/local/lib/python3.10/dist-packages (from huggingface-hub<1.0,>=0.16.4->transformers) (4.5.0)\n",
            "Collecting huggingface-hub<1.0,>=0.16.4 (from transformers)\n",
            "  Downloading huggingface_hub-0.16.4-py3-none-any.whl (268 kB)\n",
            "\u001b[2K     \u001b[90m━━━━━━━━━━━━━━━━━━━━━━━━━━━━━━━━━━━━━━\u001b[0m \u001b[32m268.8/268.8 kB\u001b[0m \u001b[31m38.8 MB/s\u001b[0m eta \u001b[36m0:00:00\u001b[0m\n",
            "\u001b[?25hRequirement already satisfied: charset-normalizer<4,>=2 in /usr/local/lib/python3.10/dist-packages (from requests->transformers) (3.2.0)\n",
            "Requirement already satisfied: idna<4,>=2.5 in /usr/local/lib/python3.10/dist-packages (from requests->transformers) (3.4)\n",
            "Requirement already satisfied: urllib3<3,>=1.21.1 in /usr/local/lib/python3.10/dist-packages (from requests->transformers) (2.0.5)\n",
            "Requirement already satisfied: certifi>=2017.4.17 in /usr/local/lib/python3.10/dist-packages (from requests->transformers) (2023.7.22)\n",
            "Installing collected packages: safetensors, huggingface-hub, tokenizers, transformers\n",
            "Successfully installed huggingface-hub-0.16.4 safetensors-0.3.3 tokenizers-0.14.0 transformers-4.34.0\n"
          ]
        }
      ]
    },
    {
      "cell_type": "code",
      "source": [
        "from google.colab import drive\n",
        "drive.mount('/content/gdrive')"
      ],
      "metadata": {
        "colab": {
          "base_uri": "https://localhost:8080/"
        },
        "id": "q1cJagDK11nR",
        "outputId": "d27d1a0a-9a98-4728-8be5-692c029cc325"
      },
      "execution_count": null,
      "outputs": [
        {
          "output_type": "stream",
          "name": "stdout",
          "text": [
            "Mounted at /content/gdrive\n"
          ]
        }
      ]
    },
    {
      "cell_type": "code",
      "source": [
        "# %%capture\n",
        "# !unzip /content/gdrive/MyDrive/archive.zip -d /content/training-dataset/"
      ],
      "metadata": {
        "id": "HTyy2_NU2CR_"
      },
      "execution_count": null,
      "outputs": []
    },
    {
      "cell_type": "code",
      "source": [
        "# %%capture\n",
        "# !unzip /content/gdrive/MyDrive/test-archive.zip -d /content/testing-dataset"
      ],
      "metadata": {
        "id": "WG1nG8kvedj3"
      },
      "execution_count": null,
      "outputs": []
    },
    {
      "cell_type": "code",
      "source": [
        "# !mv \"/content/testing-dataset/development_test_data/gallery\" \"/content/\"\n",
        "# !mv \"/content/testing-dataset/development_test_data/queries\" \"/content/\"\n",
        "\n",
        "# !mkdir \"/content/original_datasets\"\n",
        "# !mv \"/content/testing-dataset/development_test_data/gallery.csv\" \"/content/original_datasets/\"\n",
        "# !mv \"/content/testing-dataset/development_test_data/queries.csv\" \"/content/original_datasets/\"\n",
        "\n",
        "# !rm -rf \"/content/testing-dataset\"\n",
        "\n",
        "# !mv \"/content/training-dataset/train.csv\" \"/content/original_datasets/\"\n",
        "# !mv \"/content/training-dataset/test.csv\" \"/content/original_datasets/\"\n",
        "\n",
        "# !mkdir \"/content/train_imgs\""
      ],
      "metadata": {
        "id": "rzMkNBzTefUo"
      },
      "execution_count": null,
      "outputs": []
    },
    {
      "cell_type": "code",
      "source": [
        "# import os\n",
        "# import shutil\n",
        "\n",
        "# train_images = [f for f in os.listdir('/content/training-dataset/train/train')]\n",
        "# for image in train_images:\n",
        "#   shutil.move('/content/training-dataset/train/train/' + image, '/content/train_imgs/' + image)\n",
        "\n",
        "# test_images = [f for f in os.listdir('/content/training-dataset/test/test')]\n",
        "# for image in test_images:\n",
        "#   shutil.move('/content/training-dataset/test/test/' + image, '/content/train_imgs/' + image)"
      ],
      "metadata": {
        "id": "q5qfMEQUeiEe"
      },
      "execution_count": null,
      "outputs": []
    },
    {
      "cell_type": "code",
      "source": [
        "# !rm -rf \"/content/training-dataset\""
      ],
      "metadata": {
        "id": "n5C8KpjKekOC"
      },
      "execution_count": null,
      "outputs": []
    },
    {
      "cell_type": "code",
      "source": [
        "!mkdir \"/content/generated_datasets\"\n",
        "!cp '/content/gdrive/MyDrive/train_dataset.csv' '/content/generated_datasets/'\n",
        "!cp '/content/gdrive/MyDrive/train_tensors.csv' '/content/generated_datasets/'"
      ],
      "metadata": {
        "id": "MiuhA51EylYz"
      },
      "execution_count": null,
      "outputs": []
    },
    {
      "cell_type": "code",
      "source": [
        "%%capture\n",
        "!unzip \"/content/gdrive/MyDrive/gallery_tensors.zip\"\n",
        "!mv 'content/gallery_tensors' '/content/'"
      ],
      "metadata": {
        "id": "6l7EUpTiXMGm"
      },
      "execution_count": null,
      "outputs": []
    },
    {
      "cell_type": "code",
      "source": [
        "%%capture\n",
        "!unzip \"/content/gdrive/MyDrive/query_tensors.zip\"\n",
        "!mv 'content/query_tensors' '/content/'"
      ],
      "metadata": {
        "id": "VmLYmjqaXUIt"
      },
      "execution_count": null,
      "outputs": []
    },
    {
      "cell_type": "code",
      "source": [
        "%%capture\n",
        "!unzip \"/content/gdrive/MyDrive/query_tensors_cropped.zip\"\n",
        "!mv 'content/query_tensors_cropped' '/content/'"
      ],
      "metadata": {
        "id": "PL8HLFwuXaWj"
      },
      "execution_count": null,
      "outputs": []
    },
    {
      "cell_type": "code",
      "source": [
        "!rm -rf \"content\""
      ],
      "metadata": {
        "id": "qccPEnYv3q0z"
      },
      "execution_count": null,
      "outputs": []
    },
    {
      "cell_type": "code",
      "source": [
        "%%capture\n",
        "!unzip \"/content/gdrive/MyDrive/train_imgs_tensors.zip\""
      ],
      "metadata": {
        "id": "BC584eAFXjcQ"
      },
      "execution_count": null,
      "outputs": []
    },
    {
      "cell_type": "markdown",
      "source": [
        "#### Imports"
      ],
      "metadata": {
        "id": "Cj1VoRZ-YdAU"
      }
    },
    {
      "cell_type": "markdown",
      "source": [
        "#### Some useful commands"
      ],
      "metadata": {
        "id": "BqOQxu0dVsjb"
      }
    },
    {
      "cell_type": "code",
      "source": [
        "from tqdm import tqdm\n",
        "import torch\n",
        "from torch.utils.data import DataLoader\n",
        "from transformers import AutoImageProcessor, Dinov2Model\n",
        "import os\n",
        "from torch.utils.data import Dataset\n",
        "from torchvision.io import read_image\n",
        "import torchvision.transforms as T\n",
        "import torchvision.transforms.functional as F\n",
        "import pandas as pd\n",
        "from PIL import Image\n",
        "import matplotlib.pyplot as plt\n",
        "import numpy as np\n",
        "import torch.nn as nn"
      ],
      "metadata": {
        "id": "TeZqpy5zYfjL"
      },
      "execution_count": null,
      "outputs": []
    },
    {
      "cell_type": "code",
      "execution_count": null,
      "metadata": {
        "colab": {
          "base_uri": "https://localhost:8080/"
        },
        "id": "JeH_2WLc1cJq",
        "outputId": "0660bb3b-4a33-4c4e-c3e6-52d7d5ca8c1e"
      },
      "outputs": [
        {
          "output_type": "stream",
          "name": "stdout",
          "text": [
            "               total        used        free      shared  buff/cache   available\n",
            "Mem:              12           1           1           0           9          10\n",
            "Swap:              0           0           0\n"
          ]
        }
      ],
      "source": [
        "# use this command to see the available RAM space\n",
        "!free -g"
      ]
    },
    {
      "cell_type": "code",
      "source": [
        "# clear the GPU memory cache and free-up GPU memory\n",
        "torch.cuda.empty_cache()"
      ],
      "metadata": {
        "id": "EvVX-mEvZoHn"
      },
      "execution_count": null,
      "outputs": []
    },
    {
      "cell_type": "markdown",
      "source": [
        "## The file and folder structure of data for model building\n",
        "```\n",
        "File and folder structure of Product-10K dataset\n",
        "\n",
        "content\n",
        "└───gallery\n",
        "|   |   ambitious-tough-teal-from-asgard.jpg\n",
        "|   |   fine-shrewd-oarfish-of-genius.jpg\n",
        "|   |   bold-nickel-gecko-of-reputation.jpg\n",
        "|   |   marvellous-uber-boobook-of-lightning.jpg\n",
        "|   |   bouncy-economic-agama-of-honeydew.jpg\n",
        "│   \n",
        "└───queries\n",
        "|   |   magnetic-powerful-platypus-of-hail.jpeg\n",
        "|   |   free-keen-mole-of-cookies.jpeg\n",
        "|   |   optimal-uptight-ringtail-of-cleaning.jpeg\n",
        "|   |   bold-nickel-gecko-of-reputation.jpg\n",
        "|   |   marvellous-uber-boobook-of-lightning.jpg\n",
        "|\n",
        "└───train_imgs\n",
        "|   |   1.jpg\n",
        "|   |   10.jpg\n",
        "|   |   100.jpg\n",
        "|   |   1000.jpg\n",
        "|\n",
        "└───original_datasets\n",
        "|   |   gallery.csv\n",
        "|   |   queries.csv\n",
        "|   |   train.csv\n",
        "|   |   test.csv\n",
        "|\n",
        "└───generated_datasets\n",
        "|   |   train_dataset.csv\n",
        "|\n",
        "```"
      ],
      "metadata": {
        "id": "CP-lLLLoGUtz"
      }
    },
    {
      "cell_type": "code",
      "execution_count": null,
      "metadata": {
        "colab": {
          "base_uri": "https://localhost:8080/",
          "height": 197,
          "referenced_widgets": [
            "371d4615c7dc41ea868244925214b863",
            "d59b538ed6514eccaa88314e7e660e1a",
            "c262eb84f5ac4ce4963b046d89a4464a",
            "298bad7410d64aef99c71b9092140b70",
            "9a51d71de84f419ca7d40c2c70949767",
            "447bd6022b384225a5b27fcae1ccf5ef",
            "fc9707eeb8ba47a29ce1aefbc341c220",
            "d25458027c2a474a8086b2a8015014ac",
            "eab2d5282f0d41b9aab3141e81d03a97",
            "53885949c4ac423eb44001f9ffd05e45",
            "d480f9b846654484b8f0218bf5d6c108",
            "e595951223004336920f0871e3fc1cce",
            "5d074707824e4cc9988eb143a482f80e",
            "ed7ef575e65740eebf8d8eb7b5a6a76b",
            "285861b6eac84af1b54faba085ab0048",
            "1b4f4cf028b04366b70f820644e86efe",
            "e8a32e230fd64404a10be03667b3a889",
            "c534eed4258141ab9acc5df99bacc2ed",
            "9eb393401d964605908ff4bd5227ac9b",
            "efd378c78f5248c39f3e89771c9ea84b",
            "15c6fc2b559a401d8a1f46aa007975af",
            "00ae8c34539e43e1a271a2ebd33ceb5d",
            "3877c8c3b9d747b48b5bea25cc76aefd",
            "1da4a10f5f7a4409ac85d3e4241b7a42",
            "9443c9ba3ca04f0c873a1fbeb8a3ad46",
            "b8c47e52a2034285819c4de65d28284c",
            "d08914f4a0134d51ad2bc21e1a661d96",
            "f99259026538434f8a56766c0c494ca6",
            "d1e7f1561da14b47b9df28a1b90231ce",
            "9b8e7466841b464487f83d7a5b4a1a06",
            "5a05334a87004e14ae2a432d70ccb175",
            "5036f96160f64086bc0b1b797cf88a67",
            "4f9c1c514f0f47d29bc1beb7adf95ff1"
          ]
        },
        "id": "UFSU7Fwy1cJg",
        "outputId": "0bf10a55-06fd-4059-e892-7c7e09fd4b60"
      },
      "outputs": [
        {
          "output_type": "display_data",
          "data": {
            "text/plain": [
              "Downloading (…)rocessor_config.json:   0%|          | 0.00/436 [00:00<?, ?B/s]"
            ],
            "application/vnd.jupyter.widget-view+json": {
              "version_major": 2,
              "version_minor": 0,
              "model_id": "371d4615c7dc41ea868244925214b863"
            }
          },
          "metadata": {}
        },
        {
          "output_type": "display_data",
          "data": {
            "text/plain": [
              "Downloading (…)lve/main/config.json:   0%|          | 0.00/548 [00:00<?, ?B/s]"
            ],
            "application/vnd.jupyter.widget-view+json": {
              "version_major": 2,
              "version_minor": 0,
              "model_id": "e595951223004336920f0871e3fc1cce"
            }
          },
          "metadata": {}
        },
        {
          "output_type": "display_data",
          "data": {
            "text/plain": [
              "Downloading model.safetensors:   0%|          | 0.00/4.55G [00:00<?, ?B/s]"
            ],
            "application/vnd.jupyter.widget-view+json": {
              "version_major": 2,
              "version_minor": 0,
              "model_id": "3877c8c3b9d747b48b5bea25cc76aefd"
            }
          },
          "metadata": {}
        }
      ],
      "source": [
        "model_ckpt = \"facebook/dinov2-giant\"\n",
        "image_processor = AutoImageProcessor.from_pretrained(model_ckpt,\n",
        "                                                     do_normalize=True,\n",
        "                                                     do_center_crop=True,\n",
        "                                                     do_rescale=True,\n",
        "                                                     do_resize=True,\n",
        "                                                     size={'shortest_edge': 384},\n",
        "                                                     crop_size={'height':384, 'width':384})\n",
        "model = Dinov2Model.from_pretrained(model_ckpt)\n",
        "hidden_dim = model.config.hidden_size"
      ]
    },
    {
      "cell_type": "code",
      "execution_count": null,
      "metadata": {
        "colab": {
          "base_uri": "https://localhost:8080/"
        },
        "id": "jTSyLtA71cJk",
        "outputId": "3d44bcf2-dae4-4639-ff9a-adb69bed2ee7"
      },
      "outputs": [
        {
          "output_type": "execute_result",
          "data": {
            "text/plain": [
              "Dinov2Model(\n",
              "  (embeddings): Dinov2Embeddings(\n",
              "    (patch_embeddings): Dinov2PatchEmbeddings(\n",
              "      (projection): Conv2d(3, 1536, kernel_size=(14, 14), stride=(14, 14))\n",
              "    )\n",
              "    (dropout): Dropout(p=0.0, inplace=False)\n",
              "  )\n",
              "  (encoder): Dinov2Encoder(\n",
              "    (layer): ModuleList(\n",
              "      (0-39): 40 x Dinov2Layer(\n",
              "        (norm1): LayerNorm((1536,), eps=1e-06, elementwise_affine=True)\n",
              "        (attention): Dinov2Attention(\n",
              "          (attention): Dinov2SelfAttention(\n",
              "            (query): Linear(in_features=1536, out_features=1536, bias=True)\n",
              "            (key): Linear(in_features=1536, out_features=1536, bias=True)\n",
              "            (value): Linear(in_features=1536, out_features=1536, bias=True)\n",
              "            (dropout): Dropout(p=0.0, inplace=False)\n",
              "          )\n",
              "          (output): Dinov2SelfOutput(\n",
              "            (dense): Linear(in_features=1536, out_features=1536, bias=True)\n",
              "            (dropout): Dropout(p=0.0, inplace=False)\n",
              "          )\n",
              "        )\n",
              "        (layer_scale1): Dinov2LayerScale()\n",
              "        (drop_path1): Identity()\n",
              "        (norm2): LayerNorm((1536,), eps=1e-06, elementwise_affine=True)\n",
              "        (mlp): Dinov2SwiGLUFFN(\n",
              "          (weights_in): Linear(in_features=1536, out_features=8192, bias=True)\n",
              "          (weights_out): Linear(in_features=4096, out_features=1536, bias=True)\n",
              "        )\n",
              "        (layer_scale2): Dinov2LayerScale()\n",
              "        (drop_path2): Identity()\n",
              "      )\n",
              "    )\n",
              "  )\n",
              "  (layernorm): LayerNorm((1536,), eps=1e-06, elementwise_affine=True)\n",
              ")"
            ]
          },
          "metadata": {},
          "execution_count": 18
        }
      ],
      "source": [
        "model"
      ]
    },
    {
      "cell_type": "code",
      "execution_count": null,
      "metadata": {
        "colab": {
          "base_uri": "https://localhost:8080/"
        },
        "id": "Ud7JgE8H1cJl",
        "outputId": "14cf3e01-c9cf-4959-b8ad-b675ac59babe"
      },
      "outputs": [
        {
          "output_type": "execute_result",
          "data": {
            "text/plain": [
              "BitImageProcessor {\n",
              "  \"crop_size\": {\n",
              "    \"height\": 384,\n",
              "    \"width\": 384\n",
              "  },\n",
              "  \"do_center_crop\": true,\n",
              "  \"do_convert_rgb\": true,\n",
              "  \"do_normalize\": true,\n",
              "  \"do_rescale\": true,\n",
              "  \"do_resize\": true,\n",
              "  \"image_mean\": [\n",
              "    0.485,\n",
              "    0.456,\n",
              "    0.406\n",
              "  ],\n",
              "  \"image_processor_type\": \"BitImageProcessor\",\n",
              "  \"image_std\": [\n",
              "    0.229,\n",
              "    0.224,\n",
              "    0.225\n",
              "  ],\n",
              "  \"resample\": 3,\n",
              "  \"rescale_factor\": 0.00392156862745098,\n",
              "  \"size\": {\n",
              "    \"shortest_edge\": 384\n",
              "  }\n",
              "}"
            ]
          },
          "metadata": {},
          "execution_count": 19
        }
      ],
      "source": [
        "image_processor"
      ]
    },
    {
      "cell_type": "code",
      "execution_count": null,
      "metadata": {
        "id": "JVkd5YbI1cJm"
      },
      "outputs": [],
      "source": [
        "model = model.to('cuda')"
      ]
    },
    {
      "cell_type": "code",
      "execution_count": null,
      "metadata": {
        "id": "oThQ_Yfb1cJm"
      },
      "outputs": [],
      "source": [
        "class CustomDataset(Dataset):\n",
        "    def __init__(self, annotations_file, img_dir, indices, transform=None, target_transform=None, crop_to_bbox=False):\n",
        "        self.img_labels = pd.read_csv(annotations_file)\n",
        "        self.img_dir = img_dir\n",
        "        self.indices = indices\n",
        "        self.transform = transform\n",
        "        self.target_transform = target_transform\n",
        "        self.crop_to_bbox = crop_to_bbox\n",
        "\n",
        "    def __len__(self):\n",
        "        return len(self.img_labels)\n",
        "\n",
        "    def __getitem__(self, idx):\n",
        "        img_path = os.path.join(self.img_dir, self.img_labels.iloc[idx, self.indices[0]])\n",
        "        image = read_image(img_path)\n",
        "        label = self.img_labels.iloc[idx, self.indices[1]]\n",
        "        if self.transform:\n",
        "            if not self.crop_to_bbox:\n",
        "              image = self.transform(image)\n",
        "            else:\n",
        "              x = self.img_labels.iloc[idx, self.indices[2]]\n",
        "              y = self.img_labels.iloc[idx, self.indices[3]]\n",
        "              w = self.img_labels.iloc[idx, self.indices[4]]\n",
        "              h = self.img_labels.iloc[idx, self.indices[5]]\n",
        "              image = self.transform(image, x, y, w, h)\n",
        "        if self.target_transform:\n",
        "            label = self.target_transform(label)\n",
        "        return image, label, img_path\n",
        "\n",
        "def image_transformation(image):\n",
        "    images = F.resize(image, (384, 384), antialias=True)\n",
        "    images = image_processor(images, return_tensors=\"pt\")\n",
        "    return images\n",
        "\n",
        "def image_transform_with_bbox_crop(image, x, y, w, h):\n",
        "    images = F.crop(image, y, x, h, w)\n",
        "    images = F.resize(images, (384, 384), antialias=True)\n",
        "    images = image_processor(images, return_tensors=\"pt\")\n",
        "    return images"
      ]
    },
    {
      "cell_type": "code",
      "execution_count": null,
      "metadata": {
        "id": "cMtQpMNB1cJn"
      },
      "outputs": [],
      "source": [
        "# gallery = pd.read_csv(\"original_datasets/gallery.csv\")\n",
        "# gallery.head()"
      ]
    },
    {
      "cell_type": "code",
      "execution_count": null,
      "metadata": {
        "id": "27MrHe6U1cJn"
      },
      "outputs": [],
      "source": [
        "# test image preprocessing\n",
        "# proc = AutoImageProcessor.from_pretrained(model_ckpt,\n",
        "#                                           do_normalize=True,\n",
        "#                                           do_center_crop=True,\n",
        "#                                           do_rescale=True,\n",
        "#                                           do_resize=True,\n",
        "#                                           size={'shortest_edge': 384},\n",
        "#                                           crop_size={'height':384, 'width':384})\n",
        "# img = read_image(gallery.iloc[0, 1])\n",
        "# img_ = F.to_pil_image(F.resize(img, (384, 384), antialias=True))\n",
        "# plt.imshow(np.asarray(img_))"
      ]
    },
    {
      "cell_type": "code",
      "execution_count": null,
      "metadata": {
        "id": "nLcNsGid1cJo"
      },
      "outputs": [],
      "source": [
        "# proc_img = proc(img_, return_tensors=\"pt\")\n",
        "# proc_img = torch.squeeze(proc_img['pixel_values'], dim=0)\n",
        "# print(proc_img.shape)\n",
        "# proc_img = F.to_pil_image(proc_img)\n",
        "# plt.imshow(np.asarray(proc_img))"
      ]
    },
    {
      "cell_type": "markdown",
      "source": [
        "### Generate embeddings for gallery images and save"
      ],
      "metadata": {
        "id": "qyNfO7ZZrnTt"
      }
    },
    {
      "cell_type": "code",
      "execution_count": null,
      "metadata": {
        "id": "TbiVwm3M1cJp"
      },
      "outputs": [],
      "source": [
        "# gallery_dataset = CustomDataset(\"original_datasets/gallery.csv\", \"\", [1, 2], transform=image_transformation)\n",
        "# gallery_dataloader = DataLoader(gallery_dataset, batch_size=32, shuffle=True)\n",
        "\n",
        "# df = pd.DataFrame(columns=['tensor_path', 'label', 'image_path'])\n",
        "\n",
        "# if not os.path.exists(\"gallery_tensors\"):\n",
        "#     os.makedirs(\"gallery_tensors\")\n",
        "\n",
        "# for idx, data in enumerate(tqdm(gallery_dataloader)):\n",
        "#     images, labels, img_paths = data\n",
        "#     images = images['pixel_values'].to('cuda')\n",
        "#     images = torch.squeeze(images, dim=1)\n",
        "\n",
        "#     with torch.no_grad():\n",
        "#         output = model(images)\n",
        "#         embeddings = output.last_hidden_state[:, 0].cpu()\n",
        "\n",
        "#     for i in range(embeddings.shape[0]):\n",
        "#         file_path = f'gallery_tensors/{idx}_{i}.pt'\n",
        "#         torch.save(embeddings[i], file_path)\n",
        "#         df.loc[len(df)] = [file_path, labels[i].item(), img_paths[i]]\n",
        "\n",
        "# df.reset_index(inplace = True)\n",
        "# df.to_csv('gallery_tensors/gallery_tensors.csv', index=False)"
      ]
    },
    {
      "cell_type": "code",
      "execution_count": null,
      "metadata": {
        "id": "9BnwOrUx1cJp"
      },
      "outputs": [],
      "source": [
        "class TensorDataset(Dataset):\n",
        "    def __init__(self, annotations_file, tensor_dir, transform=None, target_transform=None):\n",
        "        self.tensor_labels = pd.read_csv(annotations_file)\n",
        "        self.tensor_dir = tensor_dir\n",
        "        self.transform = transform\n",
        "        self.target_transform = target_transform\n",
        "\n",
        "    def __len__(self):\n",
        "        return len(self.tensor_labels)\n",
        "\n",
        "    def __getitem__(self, idx):\n",
        "        tensor_path = os.path.join(self.tensor_dir, self.tensor_labels.iloc[idx, 1])\n",
        "        tensor = torch.load(tensor_path)\n",
        "        label = self.tensor_labels.iloc[idx, 2]\n",
        "        image_path = self.tensor_labels.iloc[idx, 3]\n",
        "        if self.transform:\n",
        "            tensor = self.transform(tensor)\n",
        "        if self.target_transform:\n",
        "            label = self.target_transform(label)\n",
        "        return tensor, label, image_path"
      ]
    },
    {
      "cell_type": "code",
      "execution_count": null,
      "metadata": {
        "colab": {
          "base_uri": "https://localhost:8080/",
          "height": 258
        },
        "id": "l7K_usmN1cJp",
        "outputId": "6d23d8c3-8a90-41bf-b0d2-9441f83581c2"
      },
      "outputs": [
        {
          "output_type": "execute_result",
          "data": {
            "text/plain": [
              "   index             tensor_path  label  \\\n",
              "0      0  gallery_tensors/0_0.pt   3590   \n",
              "1      1  gallery_tensors/0_1.pt   5250   \n",
              "2      2  gallery_tensors/0_2.pt   5061   \n",
              "3      3  gallery_tensors/0_3.pt   5225   \n",
              "4      4  gallery_tensors/0_4.pt   5006   \n",
              "\n",
              "                                          image_path  \n",
              "0  gallery/cautious-adamant-termite-of-diversity.jpg  \n",
              "1      gallery/fresh-crafty-aardwolf-of-devotion.jpg  \n",
              "2  gallery/determined-light-marmot-of-examination...  \n",
              "3      gallery/jumping-flat-vole-from-wonderland.jpg  \n",
              "4  gallery/logical-didactic-skylark-from-hyperbor...  "
            ],
            "text/html": [
              "\n",
              "  <div id=\"df-2c77da71-a84f-4503-96ef-e935365bf966\" class=\"colab-df-container\">\n",
              "    <div>\n",
              "<style scoped>\n",
              "    .dataframe tbody tr th:only-of-type {\n",
              "        vertical-align: middle;\n",
              "    }\n",
              "\n",
              "    .dataframe tbody tr th {\n",
              "        vertical-align: top;\n",
              "    }\n",
              "\n",
              "    .dataframe thead th {\n",
              "        text-align: right;\n",
              "    }\n",
              "</style>\n",
              "<table border=\"1\" class=\"dataframe\">\n",
              "  <thead>\n",
              "    <tr style=\"text-align: right;\">\n",
              "      <th></th>\n",
              "      <th>index</th>\n",
              "      <th>tensor_path</th>\n",
              "      <th>label</th>\n",
              "      <th>image_path</th>\n",
              "    </tr>\n",
              "  </thead>\n",
              "  <tbody>\n",
              "    <tr>\n",
              "      <th>0</th>\n",
              "      <td>0</td>\n",
              "      <td>gallery_tensors/0_0.pt</td>\n",
              "      <td>3590</td>\n",
              "      <td>gallery/cautious-adamant-termite-of-diversity.jpg</td>\n",
              "    </tr>\n",
              "    <tr>\n",
              "      <th>1</th>\n",
              "      <td>1</td>\n",
              "      <td>gallery_tensors/0_1.pt</td>\n",
              "      <td>5250</td>\n",
              "      <td>gallery/fresh-crafty-aardwolf-of-devotion.jpg</td>\n",
              "    </tr>\n",
              "    <tr>\n",
              "      <th>2</th>\n",
              "      <td>2</td>\n",
              "      <td>gallery_tensors/0_2.pt</td>\n",
              "      <td>5061</td>\n",
              "      <td>gallery/determined-light-marmot-of-examination...</td>\n",
              "    </tr>\n",
              "    <tr>\n",
              "      <th>3</th>\n",
              "      <td>3</td>\n",
              "      <td>gallery_tensors/0_3.pt</td>\n",
              "      <td>5225</td>\n",
              "      <td>gallery/jumping-flat-vole-from-wonderland.jpg</td>\n",
              "    </tr>\n",
              "    <tr>\n",
              "      <th>4</th>\n",
              "      <td>4</td>\n",
              "      <td>gallery_tensors/0_4.pt</td>\n",
              "      <td>5006</td>\n",
              "      <td>gallery/logical-didactic-skylark-from-hyperbor...</td>\n",
              "    </tr>\n",
              "  </tbody>\n",
              "</table>\n",
              "</div>\n",
              "    <div class=\"colab-df-buttons\">\n",
              "\n",
              "  <div class=\"colab-df-container\">\n",
              "    <button class=\"colab-df-convert\" onclick=\"convertToInteractive('df-2c77da71-a84f-4503-96ef-e935365bf966')\"\n",
              "            title=\"Convert this dataframe to an interactive table.\"\n",
              "            style=\"display:none;\">\n",
              "\n",
              "  <svg xmlns=\"http://www.w3.org/2000/svg\" height=\"24px\" viewBox=\"0 -960 960 960\">\n",
              "    <path d=\"M120-120v-720h720v720H120Zm60-500h600v-160H180v160Zm220 220h160v-160H400v160Zm0 220h160v-160H400v160ZM180-400h160v-160H180v160Zm440 0h160v-160H620v160ZM180-180h160v-160H180v160Zm440 0h160v-160H620v160Z\"/>\n",
              "  </svg>\n",
              "    </button>\n",
              "\n",
              "  <style>\n",
              "    .colab-df-container {\n",
              "      display:flex;\n",
              "      gap: 12px;\n",
              "    }\n",
              "\n",
              "    .colab-df-convert {\n",
              "      background-color: #E8F0FE;\n",
              "      border: none;\n",
              "      border-radius: 50%;\n",
              "      cursor: pointer;\n",
              "      display: none;\n",
              "      fill: #1967D2;\n",
              "      height: 32px;\n",
              "      padding: 0 0 0 0;\n",
              "      width: 32px;\n",
              "    }\n",
              "\n",
              "    .colab-df-convert:hover {\n",
              "      background-color: #E2EBFA;\n",
              "      box-shadow: 0px 1px 2px rgba(60, 64, 67, 0.3), 0px 1px 3px 1px rgba(60, 64, 67, 0.15);\n",
              "      fill: #174EA6;\n",
              "    }\n",
              "\n",
              "    .colab-df-buttons div {\n",
              "      margin-bottom: 4px;\n",
              "    }\n",
              "\n",
              "    [theme=dark] .colab-df-convert {\n",
              "      background-color: #3B4455;\n",
              "      fill: #D2E3FC;\n",
              "    }\n",
              "\n",
              "    [theme=dark] .colab-df-convert:hover {\n",
              "      background-color: #434B5C;\n",
              "      box-shadow: 0px 1px 3px 1px rgba(0, 0, 0, 0.15);\n",
              "      filter: drop-shadow(0px 1px 2px rgba(0, 0, 0, 0.3));\n",
              "      fill: #FFFFFF;\n",
              "    }\n",
              "  </style>\n",
              "\n",
              "    <script>\n",
              "      const buttonEl =\n",
              "        document.querySelector('#df-2c77da71-a84f-4503-96ef-e935365bf966 button.colab-df-convert');\n",
              "      buttonEl.style.display =\n",
              "        google.colab.kernel.accessAllowed ? 'block' : 'none';\n",
              "\n",
              "      async function convertToInteractive(key) {\n",
              "        const element = document.querySelector('#df-2c77da71-a84f-4503-96ef-e935365bf966');\n",
              "        const dataTable =\n",
              "          await google.colab.kernel.invokeFunction('convertToInteractive',\n",
              "                                                    [key], {});\n",
              "        if (!dataTable) return;\n",
              "\n",
              "        const docLinkHtml = 'Like what you see? Visit the ' +\n",
              "          '<a target=\"_blank\" href=https://colab.research.google.com/notebooks/data_table.ipynb>data table notebook</a>'\n",
              "          + ' to learn more about interactive tables.';\n",
              "        element.innerHTML = '';\n",
              "        dataTable['output_type'] = 'display_data';\n",
              "        await google.colab.output.renderOutput(dataTable, element);\n",
              "        const docLink = document.createElement('div');\n",
              "        docLink.innerHTML = docLinkHtml;\n",
              "        element.appendChild(docLink);\n",
              "      }\n",
              "    </script>\n",
              "  </div>\n",
              "\n",
              "\n",
              "<div id=\"df-dc85b34a-7e2f-4804-95a5-b557367d6d76\">\n",
              "  <button class=\"colab-df-quickchart\" onclick=\"quickchart('df-dc85b34a-7e2f-4804-95a5-b557367d6d76')\"\n",
              "            title=\"Suggest charts.\"\n",
              "            style=\"display:none;\">\n",
              "\n",
              "<svg xmlns=\"http://www.w3.org/2000/svg\" height=\"24px\"viewBox=\"0 0 24 24\"\n",
              "     width=\"24px\">\n",
              "    <g>\n",
              "        <path d=\"M19 3H5c-1.1 0-2 .9-2 2v14c0 1.1.9 2 2 2h14c1.1 0 2-.9 2-2V5c0-1.1-.9-2-2-2zM9 17H7v-7h2v7zm4 0h-2V7h2v10zm4 0h-2v-4h2v4z\"/>\n",
              "    </g>\n",
              "</svg>\n",
              "  </button>\n",
              "\n",
              "<style>\n",
              "  .colab-df-quickchart {\n",
              "      --bg-color: #E8F0FE;\n",
              "      --fill-color: #1967D2;\n",
              "      --hover-bg-color: #E2EBFA;\n",
              "      --hover-fill-color: #174EA6;\n",
              "      --disabled-fill-color: #AAA;\n",
              "      --disabled-bg-color: #DDD;\n",
              "  }\n",
              "\n",
              "  [theme=dark] .colab-df-quickchart {\n",
              "      --bg-color: #3B4455;\n",
              "      --fill-color: #D2E3FC;\n",
              "      --hover-bg-color: #434B5C;\n",
              "      --hover-fill-color: #FFFFFF;\n",
              "      --disabled-bg-color: #3B4455;\n",
              "      --disabled-fill-color: #666;\n",
              "  }\n",
              "\n",
              "  .colab-df-quickchart {\n",
              "    background-color: var(--bg-color);\n",
              "    border: none;\n",
              "    border-radius: 50%;\n",
              "    cursor: pointer;\n",
              "    display: none;\n",
              "    fill: var(--fill-color);\n",
              "    height: 32px;\n",
              "    padding: 0;\n",
              "    width: 32px;\n",
              "  }\n",
              "\n",
              "  .colab-df-quickchart:hover {\n",
              "    background-color: var(--hover-bg-color);\n",
              "    box-shadow: 0 1px 2px rgba(60, 64, 67, 0.3), 0 1px 3px 1px rgba(60, 64, 67, 0.15);\n",
              "    fill: var(--button-hover-fill-color);\n",
              "  }\n",
              "\n",
              "  .colab-df-quickchart-complete:disabled,\n",
              "  .colab-df-quickchart-complete:disabled:hover {\n",
              "    background-color: var(--disabled-bg-color);\n",
              "    fill: var(--disabled-fill-color);\n",
              "    box-shadow: none;\n",
              "  }\n",
              "\n",
              "  .colab-df-spinner {\n",
              "    border: 2px solid var(--fill-color);\n",
              "    border-color: transparent;\n",
              "    border-bottom-color: var(--fill-color);\n",
              "    animation:\n",
              "      spin 1s steps(1) infinite;\n",
              "  }\n",
              "\n",
              "  @keyframes spin {\n",
              "    0% {\n",
              "      border-color: transparent;\n",
              "      border-bottom-color: var(--fill-color);\n",
              "      border-left-color: var(--fill-color);\n",
              "    }\n",
              "    20% {\n",
              "      border-color: transparent;\n",
              "      border-left-color: var(--fill-color);\n",
              "      border-top-color: var(--fill-color);\n",
              "    }\n",
              "    30% {\n",
              "      border-color: transparent;\n",
              "      border-left-color: var(--fill-color);\n",
              "      border-top-color: var(--fill-color);\n",
              "      border-right-color: var(--fill-color);\n",
              "    }\n",
              "    40% {\n",
              "      border-color: transparent;\n",
              "      border-right-color: var(--fill-color);\n",
              "      border-top-color: var(--fill-color);\n",
              "    }\n",
              "    60% {\n",
              "      border-color: transparent;\n",
              "      border-right-color: var(--fill-color);\n",
              "    }\n",
              "    80% {\n",
              "      border-color: transparent;\n",
              "      border-right-color: var(--fill-color);\n",
              "      border-bottom-color: var(--fill-color);\n",
              "    }\n",
              "    90% {\n",
              "      border-color: transparent;\n",
              "      border-bottom-color: var(--fill-color);\n",
              "    }\n",
              "  }\n",
              "</style>\n",
              "\n",
              "  <script>\n",
              "    async function quickchart(key) {\n",
              "      const quickchartButtonEl =\n",
              "        document.querySelector('#' + key + ' button');\n",
              "      quickchartButtonEl.disabled = true;  // To prevent multiple clicks.\n",
              "      quickchartButtonEl.classList.add('colab-df-spinner');\n",
              "      try {\n",
              "        const charts = await google.colab.kernel.invokeFunction(\n",
              "            'suggestCharts', [key], {});\n",
              "      } catch (error) {\n",
              "        console.error('Error during call to suggestCharts:', error);\n",
              "      }\n",
              "      quickchartButtonEl.classList.remove('colab-df-spinner');\n",
              "      quickchartButtonEl.classList.add('colab-df-quickchart-complete');\n",
              "    }\n",
              "    (() => {\n",
              "      let quickchartButtonEl =\n",
              "        document.querySelector('#df-dc85b34a-7e2f-4804-95a5-b557367d6d76 button');\n",
              "      quickchartButtonEl.style.display =\n",
              "        google.colab.kernel.accessAllowed ? 'block' : 'none';\n",
              "    })();\n",
              "  </script>\n",
              "</div>\n",
              "    </div>\n",
              "  </div>\n"
            ]
          },
          "metadata": {},
          "execution_count": 27
        }
      ],
      "source": [
        "gallery_tensors = pd.read_csv(\"gallery_tensors/gallery_tensors.csv\")\n",
        "gallery_tensors.head()"
      ]
    },
    {
      "cell_type": "code",
      "execution_count": null,
      "metadata": {
        "colab": {
          "base_uri": "https://localhost:8080/"
        },
        "id": "4NlAt51A1cJq",
        "outputId": "9607dd41-4b80-434c-ffca-604d84605ec9"
      },
      "outputs": [
        {
          "output_type": "stream",
          "name": "stderr",
          "text": [
            "100%|██████████| 34/34 [00:03<00:00, 10.30it/s]\n"
          ]
        }
      ],
      "source": [
        "tensor_dataset = TensorDataset(\"gallery_tensors/gallery_tensors.csv\", \"\")\n",
        "tensor_dataloader = DataLoader(tensor_dataset, batch_size=32, shuffle=True)\n",
        "\n",
        "tensor_dict = {}\n",
        "label_dict = {}\n",
        "image_path_dict = {}\n",
        "\n",
        "for idx, data in enumerate(tqdm(tensor_dataloader)):\n",
        "    tensors, labels, image_paths = data\n",
        "    tensor_dict[idx] = tensors\n",
        "    label_dict[idx] = labels\n",
        "    image_path_dict[idx] = image_paths"
      ]
    },
    {
      "cell_type": "code",
      "execution_count": null,
      "metadata": {
        "id": "tnZhj5mz1cJq"
      },
      "outputs": [],
      "source": [
        "# query = pd.read_csv(\"original_datasets/queries.csv\")\n",
        "# query.head()"
      ]
    },
    {
      "cell_type": "markdown",
      "source": [
        "### Generate embeddings for query images(without cropping to bounding box) and save"
      ],
      "metadata": {
        "id": "mql6xrV9ps4O"
      }
    },
    {
      "cell_type": "code",
      "execution_count": null,
      "metadata": {
        "id": "wqBAN0xO1cJq"
      },
      "outputs": [],
      "source": [
        "# query_dataset = CustomDataset(\"original_datasets/queries.csv\", \"\", [1, 6], transform=image_transformation)\n",
        "# query_dataloader = DataLoader(query_dataset, batch_size=32, shuffle=False)\n",
        "\n",
        "# df = pd.DataFrame(columns=['tensor_path', 'label', 'image_path'])\n",
        "\n",
        "# if not os.path.exists(\"query_tensors\"):\n",
        "#     os.makedirs(\"query_tensors\")\n",
        "\n",
        "# for idx, data in enumerate(tqdm(query_dataloader)):\n",
        "#     images, labels, img_paths = data\n",
        "#     images = images['pixel_values'].to('cuda')\n",
        "#     images = torch.squeeze(images, dim=1)\n",
        "\n",
        "#     with torch.no_grad():\n",
        "#         output = model(images)\n",
        "#         embeddings = output.last_hidden_state[:, 0].cpu()\n",
        "\n",
        "#     for i in range(embeddings.shape[0]):\n",
        "#         file_path = f'query_tensors/{idx}_{i}.pt'\n",
        "#         torch.save(embeddings[i], file_path)\n",
        "#         df.loc[len(df)] = [file_path, labels[i].item(), img_paths[i]]\n",
        "\n",
        "# df.reset_index(inplace = True)\n",
        "# df.to_csv('query_tensors/query_tensors.csv', index=False)"
      ]
    },
    {
      "cell_type": "code",
      "source": [
        "query_tensors = pd.read_csv(\"query_tensors/query_tensors.csv\")\n",
        "query_tensors.head()"
      ],
      "metadata": {
        "colab": {
          "base_uri": "https://localhost:8080/",
          "height": 223
        },
        "id": "9hK0SZXL2rxz",
        "outputId": "1a634115-e88c-4630-be5e-a21e9a16c1ba"
      },
      "execution_count": null,
      "outputs": [
        {
          "output_type": "execute_result",
          "data": {
            "text/plain": [
              "   index           tensor_path  label  \\\n",
              "0      0  query_tensors/0_0.pt   5013   \n",
              "1      1  query_tensors/0_1.pt   3550   \n",
              "2      2  query_tensors/0_2.pt     71   \n",
              "3      3  query_tensors/0_3.pt   3566   \n",
              "4      4  query_tensors/0_4.pt   5329   \n",
              "\n",
              "                                          image_path  \n",
              "0    queries/magnetic-powerful-platypus-of-hail.jpeg  \n",
              "1             queries/free-keen-mole-of-cookies.jpeg  \n",
              "2  queries/hilarious-precious-parakeet-of-adverti...  \n",
              "3  queries/optimal-uptight-ringtail-of-cleaning.jpeg  \n",
              "4  queries/nonchalant-impala-of-fabulous-artistry...  "
            ],
            "text/html": [
              "\n",
              "  <div id=\"df-3b0cf95d-55d0-42f5-8155-031768c6f840\" class=\"colab-df-container\">\n",
              "    <div>\n",
              "<style scoped>\n",
              "    .dataframe tbody tr th:only-of-type {\n",
              "        vertical-align: middle;\n",
              "    }\n",
              "\n",
              "    .dataframe tbody tr th {\n",
              "        vertical-align: top;\n",
              "    }\n",
              "\n",
              "    .dataframe thead th {\n",
              "        text-align: right;\n",
              "    }\n",
              "</style>\n",
              "<table border=\"1\" class=\"dataframe\">\n",
              "  <thead>\n",
              "    <tr style=\"text-align: right;\">\n",
              "      <th></th>\n",
              "      <th>index</th>\n",
              "      <th>tensor_path</th>\n",
              "      <th>label</th>\n",
              "      <th>image_path</th>\n",
              "    </tr>\n",
              "  </thead>\n",
              "  <tbody>\n",
              "    <tr>\n",
              "      <th>0</th>\n",
              "      <td>0</td>\n",
              "      <td>query_tensors/0_0.pt</td>\n",
              "      <td>5013</td>\n",
              "      <td>queries/magnetic-powerful-platypus-of-hail.jpeg</td>\n",
              "    </tr>\n",
              "    <tr>\n",
              "      <th>1</th>\n",
              "      <td>1</td>\n",
              "      <td>query_tensors/0_1.pt</td>\n",
              "      <td>3550</td>\n",
              "      <td>queries/free-keen-mole-of-cookies.jpeg</td>\n",
              "    </tr>\n",
              "    <tr>\n",
              "      <th>2</th>\n",
              "      <td>2</td>\n",
              "      <td>query_tensors/0_2.pt</td>\n",
              "      <td>71</td>\n",
              "      <td>queries/hilarious-precious-parakeet-of-adverti...</td>\n",
              "    </tr>\n",
              "    <tr>\n",
              "      <th>3</th>\n",
              "      <td>3</td>\n",
              "      <td>query_tensors/0_3.pt</td>\n",
              "      <td>3566</td>\n",
              "      <td>queries/optimal-uptight-ringtail-of-cleaning.jpeg</td>\n",
              "    </tr>\n",
              "    <tr>\n",
              "      <th>4</th>\n",
              "      <td>4</td>\n",
              "      <td>query_tensors/0_4.pt</td>\n",
              "      <td>5329</td>\n",
              "      <td>queries/nonchalant-impala-of-fabulous-artistry...</td>\n",
              "    </tr>\n",
              "  </tbody>\n",
              "</table>\n",
              "</div>\n",
              "    <div class=\"colab-df-buttons\">\n",
              "\n",
              "  <div class=\"colab-df-container\">\n",
              "    <button class=\"colab-df-convert\" onclick=\"convertToInteractive('df-3b0cf95d-55d0-42f5-8155-031768c6f840')\"\n",
              "            title=\"Convert this dataframe to an interactive table.\"\n",
              "            style=\"display:none;\">\n",
              "\n",
              "  <svg xmlns=\"http://www.w3.org/2000/svg\" height=\"24px\" viewBox=\"0 -960 960 960\">\n",
              "    <path d=\"M120-120v-720h720v720H120Zm60-500h600v-160H180v160Zm220 220h160v-160H400v160Zm0 220h160v-160H400v160ZM180-400h160v-160H180v160Zm440 0h160v-160H620v160ZM180-180h160v-160H180v160Zm440 0h160v-160H620v160Z\"/>\n",
              "  </svg>\n",
              "    </button>\n",
              "\n",
              "  <style>\n",
              "    .colab-df-container {\n",
              "      display:flex;\n",
              "      gap: 12px;\n",
              "    }\n",
              "\n",
              "    .colab-df-convert {\n",
              "      background-color: #E8F0FE;\n",
              "      border: none;\n",
              "      border-radius: 50%;\n",
              "      cursor: pointer;\n",
              "      display: none;\n",
              "      fill: #1967D2;\n",
              "      height: 32px;\n",
              "      padding: 0 0 0 0;\n",
              "      width: 32px;\n",
              "    }\n",
              "\n",
              "    .colab-df-convert:hover {\n",
              "      background-color: #E2EBFA;\n",
              "      box-shadow: 0px 1px 2px rgba(60, 64, 67, 0.3), 0px 1px 3px 1px rgba(60, 64, 67, 0.15);\n",
              "      fill: #174EA6;\n",
              "    }\n",
              "\n",
              "    .colab-df-buttons div {\n",
              "      margin-bottom: 4px;\n",
              "    }\n",
              "\n",
              "    [theme=dark] .colab-df-convert {\n",
              "      background-color: #3B4455;\n",
              "      fill: #D2E3FC;\n",
              "    }\n",
              "\n",
              "    [theme=dark] .colab-df-convert:hover {\n",
              "      background-color: #434B5C;\n",
              "      box-shadow: 0px 1px 3px 1px rgba(0, 0, 0, 0.15);\n",
              "      filter: drop-shadow(0px 1px 2px rgba(0, 0, 0, 0.3));\n",
              "      fill: #FFFFFF;\n",
              "    }\n",
              "  </style>\n",
              "\n",
              "    <script>\n",
              "      const buttonEl =\n",
              "        document.querySelector('#df-3b0cf95d-55d0-42f5-8155-031768c6f840 button.colab-df-convert');\n",
              "      buttonEl.style.display =\n",
              "        google.colab.kernel.accessAllowed ? 'block' : 'none';\n",
              "\n",
              "      async function convertToInteractive(key) {\n",
              "        const element = document.querySelector('#df-3b0cf95d-55d0-42f5-8155-031768c6f840');\n",
              "        const dataTable =\n",
              "          await google.colab.kernel.invokeFunction('convertToInteractive',\n",
              "                                                    [key], {});\n",
              "        if (!dataTable) return;\n",
              "\n",
              "        const docLinkHtml = 'Like what you see? Visit the ' +\n",
              "          '<a target=\"_blank\" href=https://colab.research.google.com/notebooks/data_table.ipynb>data table notebook</a>'\n",
              "          + ' to learn more about interactive tables.';\n",
              "        element.innerHTML = '';\n",
              "        dataTable['output_type'] = 'display_data';\n",
              "        await google.colab.output.renderOutput(dataTable, element);\n",
              "        const docLink = document.createElement('div');\n",
              "        docLink.innerHTML = docLinkHtml;\n",
              "        element.appendChild(docLink);\n",
              "      }\n",
              "    </script>\n",
              "  </div>\n",
              "\n",
              "\n",
              "<div id=\"df-d445ed33-8bf9-4d7b-92a4-5cb8916c366e\">\n",
              "  <button class=\"colab-df-quickchart\" onclick=\"quickchart('df-d445ed33-8bf9-4d7b-92a4-5cb8916c366e')\"\n",
              "            title=\"Suggest charts.\"\n",
              "            style=\"display:none;\">\n",
              "\n",
              "<svg xmlns=\"http://www.w3.org/2000/svg\" height=\"24px\"viewBox=\"0 0 24 24\"\n",
              "     width=\"24px\">\n",
              "    <g>\n",
              "        <path d=\"M19 3H5c-1.1 0-2 .9-2 2v14c0 1.1.9 2 2 2h14c1.1 0 2-.9 2-2V5c0-1.1-.9-2-2-2zM9 17H7v-7h2v7zm4 0h-2V7h2v10zm4 0h-2v-4h2v4z\"/>\n",
              "    </g>\n",
              "</svg>\n",
              "  </button>\n",
              "\n",
              "<style>\n",
              "  .colab-df-quickchart {\n",
              "      --bg-color: #E8F0FE;\n",
              "      --fill-color: #1967D2;\n",
              "      --hover-bg-color: #E2EBFA;\n",
              "      --hover-fill-color: #174EA6;\n",
              "      --disabled-fill-color: #AAA;\n",
              "      --disabled-bg-color: #DDD;\n",
              "  }\n",
              "\n",
              "  [theme=dark] .colab-df-quickchart {\n",
              "      --bg-color: #3B4455;\n",
              "      --fill-color: #D2E3FC;\n",
              "      --hover-bg-color: #434B5C;\n",
              "      --hover-fill-color: #FFFFFF;\n",
              "      --disabled-bg-color: #3B4455;\n",
              "      --disabled-fill-color: #666;\n",
              "  }\n",
              "\n",
              "  .colab-df-quickchart {\n",
              "    background-color: var(--bg-color);\n",
              "    border: none;\n",
              "    border-radius: 50%;\n",
              "    cursor: pointer;\n",
              "    display: none;\n",
              "    fill: var(--fill-color);\n",
              "    height: 32px;\n",
              "    padding: 0;\n",
              "    width: 32px;\n",
              "  }\n",
              "\n",
              "  .colab-df-quickchart:hover {\n",
              "    background-color: var(--hover-bg-color);\n",
              "    box-shadow: 0 1px 2px rgba(60, 64, 67, 0.3), 0 1px 3px 1px rgba(60, 64, 67, 0.15);\n",
              "    fill: var(--button-hover-fill-color);\n",
              "  }\n",
              "\n",
              "  .colab-df-quickchart-complete:disabled,\n",
              "  .colab-df-quickchart-complete:disabled:hover {\n",
              "    background-color: var(--disabled-bg-color);\n",
              "    fill: var(--disabled-fill-color);\n",
              "    box-shadow: none;\n",
              "  }\n",
              "\n",
              "  .colab-df-spinner {\n",
              "    border: 2px solid var(--fill-color);\n",
              "    border-color: transparent;\n",
              "    border-bottom-color: var(--fill-color);\n",
              "    animation:\n",
              "      spin 1s steps(1) infinite;\n",
              "  }\n",
              "\n",
              "  @keyframes spin {\n",
              "    0% {\n",
              "      border-color: transparent;\n",
              "      border-bottom-color: var(--fill-color);\n",
              "      border-left-color: var(--fill-color);\n",
              "    }\n",
              "    20% {\n",
              "      border-color: transparent;\n",
              "      border-left-color: var(--fill-color);\n",
              "      border-top-color: var(--fill-color);\n",
              "    }\n",
              "    30% {\n",
              "      border-color: transparent;\n",
              "      border-left-color: var(--fill-color);\n",
              "      border-top-color: var(--fill-color);\n",
              "      border-right-color: var(--fill-color);\n",
              "    }\n",
              "    40% {\n",
              "      border-color: transparent;\n",
              "      border-right-color: var(--fill-color);\n",
              "      border-top-color: var(--fill-color);\n",
              "    }\n",
              "    60% {\n",
              "      border-color: transparent;\n",
              "      border-right-color: var(--fill-color);\n",
              "    }\n",
              "    80% {\n",
              "      border-color: transparent;\n",
              "      border-right-color: var(--fill-color);\n",
              "      border-bottom-color: var(--fill-color);\n",
              "    }\n",
              "    90% {\n",
              "      border-color: transparent;\n",
              "      border-bottom-color: var(--fill-color);\n",
              "    }\n",
              "  }\n",
              "</style>\n",
              "\n",
              "  <script>\n",
              "    async function quickchart(key) {\n",
              "      const quickchartButtonEl =\n",
              "        document.querySelector('#' + key + ' button');\n",
              "      quickchartButtonEl.disabled = true;  // To prevent multiple clicks.\n",
              "      quickchartButtonEl.classList.add('colab-df-spinner');\n",
              "      try {\n",
              "        const charts = await google.colab.kernel.invokeFunction(\n",
              "            'suggestCharts', [key], {});\n",
              "      } catch (error) {\n",
              "        console.error('Error during call to suggestCharts:', error);\n",
              "      }\n",
              "      quickchartButtonEl.classList.remove('colab-df-spinner');\n",
              "      quickchartButtonEl.classList.add('colab-df-quickchart-complete');\n",
              "    }\n",
              "    (() => {\n",
              "      let quickchartButtonEl =\n",
              "        document.querySelector('#df-d445ed33-8bf9-4d7b-92a4-5cb8916c366e button');\n",
              "      quickchartButtonEl.style.display =\n",
              "        google.colab.kernel.accessAllowed ? 'block' : 'none';\n",
              "    })();\n",
              "  </script>\n",
              "</div>\n",
              "    </div>\n",
              "  </div>\n"
            ]
          },
          "metadata": {},
          "execution_count": 31
        }
      ]
    },
    {
      "cell_type": "markdown",
      "source": [
        "### Generate embeddings for query images(with cropping to bounding box) and save"
      ],
      "metadata": {
        "id": "w577Pg1mqT2V"
      }
    },
    {
      "cell_type": "code",
      "source": [
        "# query_dataset = CustomDataset(\"original_datasets/queries.csv\", \"\", [1, 6, 2, 3, 4, 5], transform=image_transform_with_bbox_crop, crop_to_bbox=True)\n",
        "# query_dataloader = DataLoader(query_dataset, batch_size=32, shuffle=False)\n",
        "\n",
        "# df = pd.DataFrame(columns=['tensor_path', 'label', 'image_path'])\n",
        "\n",
        "# if not os.path.exists(\"query_tensors_cropped\"):\n",
        "#     os.makedirs(\"query_tensors_cropped\")\n",
        "\n",
        "# for idx, data in enumerate(tqdm(query_dataloader)):\n",
        "#     images, labels, img_paths = data\n",
        "#     images = images['pixel_values'].to('cuda')\n",
        "#     images = torch.squeeze(images, dim=1)\n",
        "\n",
        "#     with torch.no_grad():\n",
        "#         output = model(images)\n",
        "#         embeddings = output.last_hidden_state[:, 0].cpu()\n",
        "\n",
        "#     for i in range(embeddings.shape[0]):\n",
        "#         file_path = f'query_tensors_cropped/{idx}_{i}.pt'\n",
        "#         torch.save(embeddings[i], file_path)\n",
        "#         df.loc[len(df)] = [file_path, labels[i].item(), img_paths[i]]\n",
        "\n",
        "# df.reset_index(inplace = True)\n",
        "# df.to_csv('query_tensors_cropped/query_tensors.csv', index=False)"
      ],
      "metadata": {
        "id": "4aSxj-eSpcsx"
      },
      "execution_count": null,
      "outputs": []
    },
    {
      "cell_type": "code",
      "source": [
        "cropped_query_tensors = pd.read_csv(\"query_tensors_cropped/query_tensors.csv\")\n",
        "cropped_query_tensors.head()"
      ],
      "metadata": {
        "colab": {
          "base_uri": "https://localhost:8080/",
          "height": 293
        },
        "id": "6q25y8RP240B",
        "outputId": "cfb30047-b579-4e8b-fcac-02ab07e1b4dc"
      },
      "execution_count": null,
      "outputs": [
        {
          "output_type": "execute_result",
          "data": {
            "text/plain": [
              "   index                   tensor_path  label  \\\n",
              "0      0  query_tensors_cropped/0_0.pt   5013   \n",
              "1      1  query_tensors_cropped/0_1.pt   3550   \n",
              "2      2  query_tensors_cropped/0_2.pt     71   \n",
              "3      3  query_tensors_cropped/0_3.pt   3566   \n",
              "4      4  query_tensors_cropped/0_4.pt   5329   \n",
              "\n",
              "                                          image_path  \n",
              "0    queries/magnetic-powerful-platypus-of-hail.jpeg  \n",
              "1             queries/free-keen-mole-of-cookies.jpeg  \n",
              "2  queries/hilarious-precious-parakeet-of-adverti...  \n",
              "3  queries/optimal-uptight-ringtail-of-cleaning.jpeg  \n",
              "4  queries/nonchalant-impala-of-fabulous-artistry...  "
            ],
            "text/html": [
              "\n",
              "  <div id=\"df-7f5401ce-1f40-428b-988d-a3220a70ca6f\" class=\"colab-df-container\">\n",
              "    <div>\n",
              "<style scoped>\n",
              "    .dataframe tbody tr th:only-of-type {\n",
              "        vertical-align: middle;\n",
              "    }\n",
              "\n",
              "    .dataframe tbody tr th {\n",
              "        vertical-align: top;\n",
              "    }\n",
              "\n",
              "    .dataframe thead th {\n",
              "        text-align: right;\n",
              "    }\n",
              "</style>\n",
              "<table border=\"1\" class=\"dataframe\">\n",
              "  <thead>\n",
              "    <tr style=\"text-align: right;\">\n",
              "      <th></th>\n",
              "      <th>index</th>\n",
              "      <th>tensor_path</th>\n",
              "      <th>label</th>\n",
              "      <th>image_path</th>\n",
              "    </tr>\n",
              "  </thead>\n",
              "  <tbody>\n",
              "    <tr>\n",
              "      <th>0</th>\n",
              "      <td>0</td>\n",
              "      <td>query_tensors_cropped/0_0.pt</td>\n",
              "      <td>5013</td>\n",
              "      <td>queries/magnetic-powerful-platypus-of-hail.jpeg</td>\n",
              "    </tr>\n",
              "    <tr>\n",
              "      <th>1</th>\n",
              "      <td>1</td>\n",
              "      <td>query_tensors_cropped/0_1.pt</td>\n",
              "      <td>3550</td>\n",
              "      <td>queries/free-keen-mole-of-cookies.jpeg</td>\n",
              "    </tr>\n",
              "    <tr>\n",
              "      <th>2</th>\n",
              "      <td>2</td>\n",
              "      <td>query_tensors_cropped/0_2.pt</td>\n",
              "      <td>71</td>\n",
              "      <td>queries/hilarious-precious-parakeet-of-adverti...</td>\n",
              "    </tr>\n",
              "    <tr>\n",
              "      <th>3</th>\n",
              "      <td>3</td>\n",
              "      <td>query_tensors_cropped/0_3.pt</td>\n",
              "      <td>3566</td>\n",
              "      <td>queries/optimal-uptight-ringtail-of-cleaning.jpeg</td>\n",
              "    </tr>\n",
              "    <tr>\n",
              "      <th>4</th>\n",
              "      <td>4</td>\n",
              "      <td>query_tensors_cropped/0_4.pt</td>\n",
              "      <td>5329</td>\n",
              "      <td>queries/nonchalant-impala-of-fabulous-artistry...</td>\n",
              "    </tr>\n",
              "  </tbody>\n",
              "</table>\n",
              "</div>\n",
              "    <div class=\"colab-df-buttons\">\n",
              "\n",
              "  <div class=\"colab-df-container\">\n",
              "    <button class=\"colab-df-convert\" onclick=\"convertToInteractive('df-7f5401ce-1f40-428b-988d-a3220a70ca6f')\"\n",
              "            title=\"Convert this dataframe to an interactive table.\"\n",
              "            style=\"display:none;\">\n",
              "\n",
              "  <svg xmlns=\"http://www.w3.org/2000/svg\" height=\"24px\" viewBox=\"0 -960 960 960\">\n",
              "    <path d=\"M120-120v-720h720v720H120Zm60-500h600v-160H180v160Zm220 220h160v-160H400v160Zm0 220h160v-160H400v160ZM180-400h160v-160H180v160Zm440 0h160v-160H620v160ZM180-180h160v-160H180v160Zm440 0h160v-160H620v160Z\"/>\n",
              "  </svg>\n",
              "    </button>\n",
              "\n",
              "  <style>\n",
              "    .colab-df-container {\n",
              "      display:flex;\n",
              "      gap: 12px;\n",
              "    }\n",
              "\n",
              "    .colab-df-convert {\n",
              "      background-color: #E8F0FE;\n",
              "      border: none;\n",
              "      border-radius: 50%;\n",
              "      cursor: pointer;\n",
              "      display: none;\n",
              "      fill: #1967D2;\n",
              "      height: 32px;\n",
              "      padding: 0 0 0 0;\n",
              "      width: 32px;\n",
              "    }\n",
              "\n",
              "    .colab-df-convert:hover {\n",
              "      background-color: #E2EBFA;\n",
              "      box-shadow: 0px 1px 2px rgba(60, 64, 67, 0.3), 0px 1px 3px 1px rgba(60, 64, 67, 0.15);\n",
              "      fill: #174EA6;\n",
              "    }\n",
              "\n",
              "    .colab-df-buttons div {\n",
              "      margin-bottom: 4px;\n",
              "    }\n",
              "\n",
              "    [theme=dark] .colab-df-convert {\n",
              "      background-color: #3B4455;\n",
              "      fill: #D2E3FC;\n",
              "    }\n",
              "\n",
              "    [theme=dark] .colab-df-convert:hover {\n",
              "      background-color: #434B5C;\n",
              "      box-shadow: 0px 1px 3px 1px rgba(0, 0, 0, 0.15);\n",
              "      filter: drop-shadow(0px 1px 2px rgba(0, 0, 0, 0.3));\n",
              "      fill: #FFFFFF;\n",
              "    }\n",
              "  </style>\n",
              "\n",
              "    <script>\n",
              "      const buttonEl =\n",
              "        document.querySelector('#df-7f5401ce-1f40-428b-988d-a3220a70ca6f button.colab-df-convert');\n",
              "      buttonEl.style.display =\n",
              "        google.colab.kernel.accessAllowed ? 'block' : 'none';\n",
              "\n",
              "      async function convertToInteractive(key) {\n",
              "        const element = document.querySelector('#df-7f5401ce-1f40-428b-988d-a3220a70ca6f');\n",
              "        const dataTable =\n",
              "          await google.colab.kernel.invokeFunction('convertToInteractive',\n",
              "                                                    [key], {});\n",
              "        if (!dataTable) return;\n",
              "\n",
              "        const docLinkHtml = 'Like what you see? Visit the ' +\n",
              "          '<a target=\"_blank\" href=https://colab.research.google.com/notebooks/data_table.ipynb>data table notebook</a>'\n",
              "          + ' to learn more about interactive tables.';\n",
              "        element.innerHTML = '';\n",
              "        dataTable['output_type'] = 'display_data';\n",
              "        await google.colab.output.renderOutput(dataTable, element);\n",
              "        const docLink = document.createElement('div');\n",
              "        docLink.innerHTML = docLinkHtml;\n",
              "        element.appendChild(docLink);\n",
              "      }\n",
              "    </script>\n",
              "  </div>\n",
              "\n",
              "\n",
              "<div id=\"df-12bb8b23-93d5-47ae-9290-4ddd2ea776f7\">\n",
              "  <button class=\"colab-df-quickchart\" onclick=\"quickchart('df-12bb8b23-93d5-47ae-9290-4ddd2ea776f7')\"\n",
              "            title=\"Suggest charts.\"\n",
              "            style=\"display:none;\">\n",
              "\n",
              "<svg xmlns=\"http://www.w3.org/2000/svg\" height=\"24px\"viewBox=\"0 0 24 24\"\n",
              "     width=\"24px\">\n",
              "    <g>\n",
              "        <path d=\"M19 3H5c-1.1 0-2 .9-2 2v14c0 1.1.9 2 2 2h14c1.1 0 2-.9 2-2V5c0-1.1-.9-2-2-2zM9 17H7v-7h2v7zm4 0h-2V7h2v10zm4 0h-2v-4h2v4z\"/>\n",
              "    </g>\n",
              "</svg>\n",
              "  </button>\n",
              "\n",
              "<style>\n",
              "  .colab-df-quickchart {\n",
              "      --bg-color: #E8F0FE;\n",
              "      --fill-color: #1967D2;\n",
              "      --hover-bg-color: #E2EBFA;\n",
              "      --hover-fill-color: #174EA6;\n",
              "      --disabled-fill-color: #AAA;\n",
              "      --disabled-bg-color: #DDD;\n",
              "  }\n",
              "\n",
              "  [theme=dark] .colab-df-quickchart {\n",
              "      --bg-color: #3B4455;\n",
              "      --fill-color: #D2E3FC;\n",
              "      --hover-bg-color: #434B5C;\n",
              "      --hover-fill-color: #FFFFFF;\n",
              "      --disabled-bg-color: #3B4455;\n",
              "      --disabled-fill-color: #666;\n",
              "  }\n",
              "\n",
              "  .colab-df-quickchart {\n",
              "    background-color: var(--bg-color);\n",
              "    border: none;\n",
              "    border-radius: 50%;\n",
              "    cursor: pointer;\n",
              "    display: none;\n",
              "    fill: var(--fill-color);\n",
              "    height: 32px;\n",
              "    padding: 0;\n",
              "    width: 32px;\n",
              "  }\n",
              "\n",
              "  .colab-df-quickchart:hover {\n",
              "    background-color: var(--hover-bg-color);\n",
              "    box-shadow: 0 1px 2px rgba(60, 64, 67, 0.3), 0 1px 3px 1px rgba(60, 64, 67, 0.15);\n",
              "    fill: var(--button-hover-fill-color);\n",
              "  }\n",
              "\n",
              "  .colab-df-quickchart-complete:disabled,\n",
              "  .colab-df-quickchart-complete:disabled:hover {\n",
              "    background-color: var(--disabled-bg-color);\n",
              "    fill: var(--disabled-fill-color);\n",
              "    box-shadow: none;\n",
              "  }\n",
              "\n",
              "  .colab-df-spinner {\n",
              "    border: 2px solid var(--fill-color);\n",
              "    border-color: transparent;\n",
              "    border-bottom-color: var(--fill-color);\n",
              "    animation:\n",
              "      spin 1s steps(1) infinite;\n",
              "  }\n",
              "\n",
              "  @keyframes spin {\n",
              "    0% {\n",
              "      border-color: transparent;\n",
              "      border-bottom-color: var(--fill-color);\n",
              "      border-left-color: var(--fill-color);\n",
              "    }\n",
              "    20% {\n",
              "      border-color: transparent;\n",
              "      border-left-color: var(--fill-color);\n",
              "      border-top-color: var(--fill-color);\n",
              "    }\n",
              "    30% {\n",
              "      border-color: transparent;\n",
              "      border-left-color: var(--fill-color);\n",
              "      border-top-color: var(--fill-color);\n",
              "      border-right-color: var(--fill-color);\n",
              "    }\n",
              "    40% {\n",
              "      border-color: transparent;\n",
              "      border-right-color: var(--fill-color);\n",
              "      border-top-color: var(--fill-color);\n",
              "    }\n",
              "    60% {\n",
              "      border-color: transparent;\n",
              "      border-right-color: var(--fill-color);\n",
              "    }\n",
              "    80% {\n",
              "      border-color: transparent;\n",
              "      border-right-color: var(--fill-color);\n",
              "      border-bottom-color: var(--fill-color);\n",
              "    }\n",
              "    90% {\n",
              "      border-color: transparent;\n",
              "      border-bottom-color: var(--fill-color);\n",
              "    }\n",
              "  }\n",
              "</style>\n",
              "\n",
              "  <script>\n",
              "    async function quickchart(key) {\n",
              "      const quickchartButtonEl =\n",
              "        document.querySelector('#' + key + ' button');\n",
              "      quickchartButtonEl.disabled = true;  // To prevent multiple clicks.\n",
              "      quickchartButtonEl.classList.add('colab-df-spinner');\n",
              "      try {\n",
              "        const charts = await google.colab.kernel.invokeFunction(\n",
              "            'suggestCharts', [key], {});\n",
              "      } catch (error) {\n",
              "        console.error('Error during call to suggestCharts:', error);\n",
              "      }\n",
              "      quickchartButtonEl.classList.remove('colab-df-spinner');\n",
              "      quickchartButtonEl.classList.add('colab-df-quickchart-complete');\n",
              "    }\n",
              "    (() => {\n",
              "      let quickchartButtonEl =\n",
              "        document.querySelector('#df-12bb8b23-93d5-47ae-9290-4ddd2ea776f7 button');\n",
              "      quickchartButtonEl.style.display =\n",
              "        google.colab.kernel.accessAllowed ? 'block' : 'none';\n",
              "    })();\n",
              "  </script>\n",
              "</div>\n",
              "    </div>\n",
              "  </div>\n"
            ]
          },
          "metadata": {},
          "execution_count": 33
        }
      ]
    },
    {
      "cell_type": "markdown",
      "source": [
        "### Load the saved query image embedding tensors(non-cropped)"
      ],
      "metadata": {
        "id": "R-hCtPdKtgw-"
      }
    },
    {
      "cell_type": "code",
      "execution_count": null,
      "metadata": {
        "colab": {
          "base_uri": "https://localhost:8080/"
        },
        "id": "066hORRs1cJr",
        "outputId": "7e92f66b-2638-44d7-adba-55dc8edaa5f9"
      },
      "outputs": [
        {
          "output_type": "stream",
          "name": "stderr",
          "text": [
            "100%|██████████| 1935/1935 [00:06<00:00, 313.48it/s]\n"
          ]
        }
      ],
      "source": [
        "query_tensor_dataset = TensorDataset(\"query_tensors/query_tensors.csv\", \"\")\n",
        "query_tensor_dataloader = DataLoader(query_tensor_dataset, batch_size=1, shuffle=False)\n",
        "\n",
        "query_tensor_dict = {}\n",
        "query_label_dict = {}\n",
        "query_image_path_dict = {}\n",
        "\n",
        "for idx, data in enumerate(tqdm(query_tensor_dataloader)):\n",
        "    tensors, labels, image_paths = data\n",
        "    query_tensor_dict[idx] = tensors\n",
        "    query_label_dict[idx] = labels\n",
        "    query_image_path_dict[idx] = image_paths"
      ]
    },
    {
      "cell_type": "markdown",
      "source": [
        "### Load the saved query image embedding tensors(cropped)"
      ],
      "metadata": {
        "id": "KfRwUMS6t8e0"
      }
    },
    {
      "cell_type": "code",
      "source": [
        "crop_query_tensor_dataset = TensorDataset(\"query_tensors_cropped/query_tensors.csv\", \"\")\n",
        "crop_query_tensor_dataloader = DataLoader(crop_query_tensor_dataset, batch_size=1, shuffle=False)\n",
        "\n",
        "crop_query_tensor_dict = {}\n",
        "crop_query_label_dict = {}\n",
        "crop_query_image_path_dict = {}\n",
        "\n",
        "for idx, data in enumerate(tqdm(crop_query_tensor_dataloader)):\n",
        "    tensors, labels, image_paths = data\n",
        "    crop_query_tensor_dict[idx] = tensors\n",
        "    crop_query_label_dict[idx] = labels\n",
        "    crop_query_image_path_dict[idx] = image_paths"
      ],
      "metadata": {
        "colab": {
          "base_uri": "https://localhost:8080/"
        },
        "id": "A58LW55nuAzx",
        "outputId": "4b4fe700-a32c-421b-e81e-539d544fa142"
      },
      "execution_count": null,
      "outputs": [
        {
          "output_type": "stream",
          "name": "stderr",
          "text": [
            "100%|██████████| 1935/1935 [00:06<00:00, 303.29it/s]\n"
          ]
        }
      ]
    },
    {
      "cell_type": "code",
      "execution_count": null,
      "metadata": {
        "id": "Z8Q-k8BE1cJr"
      },
      "outputs": [],
      "source": [
        "batch_size = 32\n",
        "\n",
        "def AP(actual_label, predicted_labels):\n",
        "    GPTs = predicted_labels.count(actual_label)\n",
        "    if GPTs < 1:\n",
        "        return 1\n",
        "    AP = 0\n",
        "    GPTs_found = 0\n",
        "    for i in range(len(predicted_labels)):\n",
        "        if predicted_labels[i] == actual_label:\n",
        "            GPTs_found += 1\n",
        "            AP += GPTs_found / (i + 1)\n",
        "    return AP / GPTs\n",
        "\n",
        "def mAP(APs):\n",
        "    return np.average(APs)\n",
        "\n",
        "def zero_shot_model(query_tensor_dictionary, query_label_dictionary):\n",
        "    APs_euclidean = []\n",
        "    APs_manhattan = []\n",
        "    APs_cosine = []\n",
        "    for i in tqdm(range(len(query_tensor_dictionary))):\n",
        "        query_tensor_ = query_tensor_dictionary[i].to('cuda')\n",
        "        query_tensor = query_tensor_.repeat(batch_size, 1)\n",
        "\n",
        "        euclidean = None\n",
        "        manhattan = None\n",
        "        cosine = None\n",
        "        pred_labels = None\n",
        "        act_label = query_label_dictionary[i]\n",
        "        for k in range(len(tensor_dict)):\n",
        "            if tensor_dict[k].shape[0] < batch_size:\n",
        "                query_tensor = query_tensor_.repeat(tensor_dict[k].shape[0], 1)\n",
        "            gallery_tensors = tensor_dict[k].to('cuda')\n",
        "            gallery_labels = label_dict[k].to('cuda')\n",
        "            if euclidean == None and manhattan == None and cosine == None:\n",
        "                euclidean = torch.nn.functional.pairwise_distance(gallery_tensors, query_tensor, p=2)\n",
        "                manhattan = torch.nn.functional.pairwise_distance(gallery_tensors, query_tensor, p=1)\n",
        "                cosine = torch.nn.functional.cosine_similarity(gallery_tensors, query_tensor)\n",
        "                pred_labels = gallery_labels\n",
        "            else:\n",
        "                euclidean = torch.cat((euclidean, torch.nn.functional.pairwise_distance(gallery_tensors, query_tensor, p=2)), dim=0)\n",
        "                manhattan = torch.cat((manhattan, torch.nn.functional.pairwise_distance(gallery_tensors, query_tensor, p=1)), dim=0)\n",
        "                cosine = torch.cat((cosine, torch.nn.functional.cosine_similarity(gallery_tensors, query_tensor)), dim=0)\n",
        "                pred_labels = torch.cat((pred_labels, gallery_labels), dim=0)\n",
        "\n",
        "        euclidean_, euclidean_indices = torch.sort(euclidean)\n",
        "        manhattan_, manhattan_indices = torch.sort(manhattan)\n",
        "        cosine_, cosine_indices = torch.sort(torch.abs(cosine), descending=True)\n",
        "\n",
        "        pred_labels_euclidean = pred_labels[euclidean_indices]\n",
        "        pred_labels_manhattan = pred_labels[manhattan_indices]\n",
        "        pred_labels_cosine = pred_labels[cosine_indices]\n",
        "\n",
        "        APs_euclidean.append(AP(act_label.item(), pred_labels_euclidean.cpu().numpy().astype(int).tolist()))\n",
        "        APs_manhattan.append(AP(act_label.item(), pred_labels_manhattan.cpu().numpy().astype(int).tolist()))\n",
        "        APs_cosine.append(AP(act_label.item(), pred_labels_cosine.cpu().numpy().astype(int).tolist()))\n",
        "\n",
        "    print('\\nEuclidean distance mAP:', mAP(APs_euclidean))\n",
        "    print('Manhattan distance mAP:', mAP(APs_manhattan))\n",
        "    print('Cosine distance mAP:', mAP(APs_cosine))"
      ]
    },
    {
      "cell_type": "code",
      "source": [
        "zero_shot_model(query_tensor_dict, query_label_dict)"
      ],
      "metadata": {
        "colab": {
          "base_uri": "https://localhost:8080/"
        },
        "id": "QIUilEHKAQJS",
        "outputId": "180a9c38-de1a-4a29-e12a-b3834945fc8e"
      },
      "execution_count": null,
      "outputs": [
        {
          "output_type": "stream",
          "name": "stderr",
          "text": [
            "100%|██████████| 1935/1935 [00:35<00:00, 54.88it/s]"
          ]
        },
        {
          "output_type": "stream",
          "name": "stdout",
          "text": [
            "\n",
            "Euclidean distance mAP: 0.17185104739425894\n",
            "Manhattan distance mAP: 0.17276926946274335\n",
            "Cosine distance mAP: 0.17374990262707413\n"
          ]
        },
        {
          "output_type": "stream",
          "name": "stderr",
          "text": [
            "\n"
          ]
        }
      ]
    },
    {
      "cell_type": "code",
      "source": [
        "zero_shot_model(crop_query_tensor_dict, crop_query_label_dict)"
      ],
      "metadata": {
        "colab": {
          "base_uri": "https://localhost:8080/"
        },
        "id": "nOYCIt9lAawP",
        "outputId": "fd1fcb67-47a9-4030-946e-631d29909f9d"
      },
      "execution_count": null,
      "outputs": [
        {
          "output_type": "stream",
          "name": "stderr",
          "text": [
            "100%|██████████| 1935/1935 [00:32<00:00, 59.81it/s]"
          ]
        },
        {
          "output_type": "stream",
          "name": "stdout",
          "text": [
            "\n",
            "Euclidean distance mAP: 0.18045948404926768\n",
            "Manhattan distance mAP: 0.18160515003059668\n",
            "Cosine distance mAP: 0.18212984864232812\n"
          ]
        },
        {
          "output_type": "stream",
          "name": "stderr",
          "text": [
            "\n"
          ]
        }
      ]
    },
    {
      "cell_type": "markdown",
      "source": [
        "### Save the embeddings for future use as Zip"
      ],
      "metadata": {
        "id": "L37rVLJge6D_"
      }
    },
    {
      "cell_type": "code",
      "source": [
        "# %%capture\n",
        "# !zip -r gallery_tensors.zip '/content/gallery_tensors/'"
      ],
      "metadata": {
        "id": "d55MAfSmV5ql"
      },
      "execution_count": null,
      "outputs": []
    },
    {
      "cell_type": "code",
      "source": [
        "# %%capture\n",
        "# !zip -r query_tensors.zip '/content/query_tensors/'"
      ],
      "metadata": {
        "id": "iqWRGEACWEa3"
      },
      "execution_count": null,
      "outputs": []
    },
    {
      "cell_type": "code",
      "source": [
        "# %%capture\n",
        "# !zip -r query_tensors_cropped.zip '/content/query_tensors_cropped/'"
      ],
      "metadata": {
        "id": "mXJygiiDWE7X"
      },
      "execution_count": null,
      "outputs": []
    },
    {
      "cell_type": "code",
      "source": [
        "# !cp '/content/gallery_tensors.zip' '/content/gdrive/MyDrive/gallery_tensors.zip'\n",
        "# !cp '/content/query_tensors.zip' '/content/gdrive/MyDrive/query_tensors.zip'\n",
        "# !cp '/content/query_tensors_cropped.zip' '/content/gdrive/MyDrive/query_tensors_cropped.zip'"
      ],
      "metadata": {
        "id": "ImyKle0ddU_K"
      },
      "execution_count": null,
      "outputs": []
    },
    {
      "cell_type": "markdown",
      "metadata": {
        "id": "jG45PEoe1cJr"
      },
      "source": [
        "# Now let's train a model with only one linear layer"
      ]
    },
    {
      "cell_type": "code",
      "source": [
        "# train_dataset = pd.read_csv('/content/generated_datasets/train_dataset.csv', low_memory=False)\n",
        "# print(train_dataset.shape)\n",
        "# display(train_dataset.head())"
      ],
      "metadata": {
        "id": "ajb08rBcfQ-6"
      },
      "execution_count": null,
      "outputs": []
    },
    {
      "cell_type": "code",
      "source": [
        "# list_of_images = train_dataset['img1'].unique().tolist() + train_dataset['img2'].unique().tolist()\n",
        "# unique_images_list = list(set(list_of_images))\n",
        "# print(\"Count of unique images:\", len(unique_images_list))\n",
        "# print(unique_images_list[0:10])"
      ],
      "metadata": {
        "id": "zNpfROOfzKfw"
      },
      "execution_count": null,
      "outputs": []
    },
    {
      "cell_type": "code",
      "source": [
        "# import os\n",
        "# from torch.utils.data import Dataset\n",
        "# from torchvision.io import read_image\n",
        "# import torchvision.transforms as T\n",
        "# import torchvision.transforms.functional as F\n",
        "\n",
        "# class CustomTrainDataset(Dataset):\n",
        "#     def __init__(self, image_paths, img_dir, transform=None):\n",
        "#         self.img_paths = image_paths\n",
        "#         self.img_dir = img_dir\n",
        "#         self.transform = transform\n",
        "\n",
        "#     def __len__(self):\n",
        "#         return len(self.img_paths)\n",
        "\n",
        "#     def __getitem__(self, idx):\n",
        "#         img_path = os.path.join(self.img_dir, self.img_paths[idx])\n",
        "#         image = read_image(img_path)\n",
        "#         if self.transform:\n",
        "#             image = self.transform(image)\n",
        "#         return image, self.img_paths[idx], img_path\n",
        "\n",
        "# def image_transformation(image):\n",
        "#     images = F.resize(image, (384, 384), antialias=True)\n",
        "#     images = image_processor(images, return_tensors=\"pt\")\n",
        "#     return images\n",
        "\n",
        "# from tqdm import tqdm\n",
        "# from torch.utils.data import DataLoader\n",
        "\n",
        "# train_image_dataset = CustomTrainDataset(unique_images_list, \"/content/train_imgs\", transform=image_transformation)\n",
        "# train_image_dataloader = DataLoader(train_image_dataset, batch_size=32, shuffle=True)\n",
        "\n",
        "# df = pd.DataFrame(columns=['tensor_path', 'img_name', 'image_path'])\n",
        "\n",
        "# if not os.path.exists(\"train_imgs_tensors\"):\n",
        "#     os.makedirs(\"train_imgs_tensors\")\n",
        "\n",
        "# for idx, data in enumerate(tqdm(train_image_dataloader)):\n",
        "#     images, img_names, img_paths = data\n",
        "#     images = images['pixel_values'].to('cuda')\n",
        "#     images = torch.squeeze(images, dim=1)\n",
        "\n",
        "#     with torch.no_grad():\n",
        "#         output = model(images)\n",
        "#         embeddings = output.last_hidden_state[:, 0].cpu()\n",
        "\n",
        "#     for i in range(embeddings.shape[0]):\n",
        "#         file_path = f'train_imgs_tensors/{idx}_{i}.pt'\n",
        "#         torch.save(embeddings[i], file_path)\n",
        "#         df.loc[len(df)] = [file_path, img_names[i], img_paths[i]]\n",
        "\n",
        "# df.reset_index(inplace = True)\n",
        "# df.to_csv('train_imgs_tensors/train_imgs_tensors.csv', index=False)"
      ],
      "metadata": {
        "id": "9P8e5tJgzP9W"
      },
      "execution_count": null,
      "outputs": []
    },
    {
      "cell_type": "code",
      "source": [
        "# df = train_dataset.copy()\n",
        "# df['tensor1'] = np.nan\n",
        "# df['tensor2'] = np.nan\n",
        "\n",
        "# train_imgs_tensors_dataset = pd.read_csv('train_imgs_tensors/train_imgs_tensors.csv', low_memory=False)\n",
        "\n",
        "# for index, row in tqdm(train_imgs_tensors_dataset.iterrows()):\n",
        "#   df.loc[df['img1'] == row['img_name'], 'tensor1'] = row['tensor_path']\n",
        "#   df.loc[df['img2'] == row['img_name'], 'tensor2'] = row['tensor_path']\n",
        "\n",
        "# list_of_tensors = df['tensor1'].unique().tolist() + df['tensor2'].unique().tolist()\n",
        "# unique_tensor_list = list(set(list_of_tensors))\n",
        "# print(\"Count of unique images:\", len(unique_tensor_list))\n",
        "# print(unique_tensor_list[0:10])\n",
        "\n",
        "# null_count = df.isnull().sum().sum()\n",
        "# print('Number of null values:', null_count)\n",
        "\n",
        "# df.reset_index(inplace = True)\n",
        "# df.to_csv('train_imgs_tensors/train_tensors.csv', index=False)"
      ],
      "metadata": {
        "id": "IuUhB-f5AiUW"
      },
      "execution_count": null,
      "outputs": []
    },
    {
      "cell_type": "code",
      "source": [
        "# train_tensors_dataset_ = pd.read_csv('train_imgs_tensors/train_tensors.csv', low_memory=False)\n",
        "# train_tensors_dataset_.reset_index(drop=True, inplace = True)\n",
        "# train_tensors_dataset_.drop(['index', 'Unnamed: 0'], inplace=True, axis=1)\n",
        "# train_tensors_dataset_.to_csv('generated_datasets/train_tensors.csv', index=False)"
      ],
      "metadata": {
        "id": "Ziy1f9PYaWpU"
      },
      "execution_count": null,
      "outputs": []
    },
    {
      "cell_type": "code",
      "source": [
        "train_tensors_dataset_ = pd.read_csv('generated_datasets/train_tensors.csv', low_memory=False)\n",
        "train_tensors_dataset_.head()"
      ],
      "metadata": {
        "colab": {
          "base_uri": "https://localhost:8080/",
          "height": 226
        },
        "id": "98-w5LjPcXn9",
        "outputId": "630d0e06-f0f6-4e66-816a-e2d99cd66a68"
      },
      "execution_count": null,
      "outputs": [
        {
          "output_type": "execute_result",
          "data": {
            "text/plain": [
              "          img1         img2  label                        tensor1  \\\n",
              "0    14346.jpg  7211589.jpg      0  train_imgs_tensors/3815_25.pt   \n",
              "1    77676.jpg  1671857.jpg      0  train_imgs_tensors/3400_25.pt   \n",
              "2    53031.jpg    53037.jpg      1  train_imgs_tensors/3108_26.pt   \n",
              "3    84577.jpg    84579.jpg      1    train_imgs_tensors/28_17.pt   \n",
              "4  5622713.jpg  8209261.jpg      0  train_imgs_tensors/2561_11.pt   \n",
              "\n",
              "                         tensor2  \n",
              "0   train_imgs_tensors/3443_0.pt  \n",
              "1   train_imgs_tensors/840_20.pt  \n",
              "2  train_imgs_tensors/1917_28.pt  \n",
              "3   train_imgs_tensors/689_31.pt  \n",
              "4  train_imgs_tensors/2549_12.pt  "
            ],
            "text/html": [
              "\n",
              "  <div id=\"df-73d864e6-8f45-437e-a41a-2be6bd48030f\" class=\"colab-df-container\">\n",
              "    <div>\n",
              "<style scoped>\n",
              "    .dataframe tbody tr th:only-of-type {\n",
              "        vertical-align: middle;\n",
              "    }\n",
              "\n",
              "    .dataframe tbody tr th {\n",
              "        vertical-align: top;\n",
              "    }\n",
              "\n",
              "    .dataframe thead th {\n",
              "        text-align: right;\n",
              "    }\n",
              "</style>\n",
              "<table border=\"1\" class=\"dataframe\">\n",
              "  <thead>\n",
              "    <tr style=\"text-align: right;\">\n",
              "      <th></th>\n",
              "      <th>img1</th>\n",
              "      <th>img2</th>\n",
              "      <th>label</th>\n",
              "      <th>tensor1</th>\n",
              "      <th>tensor2</th>\n",
              "    </tr>\n",
              "  </thead>\n",
              "  <tbody>\n",
              "    <tr>\n",
              "      <th>0</th>\n",
              "      <td>14346.jpg</td>\n",
              "      <td>7211589.jpg</td>\n",
              "      <td>0</td>\n",
              "      <td>train_imgs_tensors/3815_25.pt</td>\n",
              "      <td>train_imgs_tensors/3443_0.pt</td>\n",
              "    </tr>\n",
              "    <tr>\n",
              "      <th>1</th>\n",
              "      <td>77676.jpg</td>\n",
              "      <td>1671857.jpg</td>\n",
              "      <td>0</td>\n",
              "      <td>train_imgs_tensors/3400_25.pt</td>\n",
              "      <td>train_imgs_tensors/840_20.pt</td>\n",
              "    </tr>\n",
              "    <tr>\n",
              "      <th>2</th>\n",
              "      <td>53031.jpg</td>\n",
              "      <td>53037.jpg</td>\n",
              "      <td>1</td>\n",
              "      <td>train_imgs_tensors/3108_26.pt</td>\n",
              "      <td>train_imgs_tensors/1917_28.pt</td>\n",
              "    </tr>\n",
              "    <tr>\n",
              "      <th>3</th>\n",
              "      <td>84577.jpg</td>\n",
              "      <td>84579.jpg</td>\n",
              "      <td>1</td>\n",
              "      <td>train_imgs_tensors/28_17.pt</td>\n",
              "      <td>train_imgs_tensors/689_31.pt</td>\n",
              "    </tr>\n",
              "    <tr>\n",
              "      <th>4</th>\n",
              "      <td>5622713.jpg</td>\n",
              "      <td>8209261.jpg</td>\n",
              "      <td>0</td>\n",
              "      <td>train_imgs_tensors/2561_11.pt</td>\n",
              "      <td>train_imgs_tensors/2549_12.pt</td>\n",
              "    </tr>\n",
              "  </tbody>\n",
              "</table>\n",
              "</div>\n",
              "    <div class=\"colab-df-buttons\">\n",
              "\n",
              "  <div class=\"colab-df-container\">\n",
              "    <button class=\"colab-df-convert\" onclick=\"convertToInteractive('df-73d864e6-8f45-437e-a41a-2be6bd48030f')\"\n",
              "            title=\"Convert this dataframe to an interactive table.\"\n",
              "            style=\"display:none;\">\n",
              "\n",
              "  <svg xmlns=\"http://www.w3.org/2000/svg\" height=\"24px\" viewBox=\"0 -960 960 960\">\n",
              "    <path d=\"M120-120v-720h720v720H120Zm60-500h600v-160H180v160Zm220 220h160v-160H400v160Zm0 220h160v-160H400v160ZM180-400h160v-160H180v160Zm440 0h160v-160H620v160ZM180-180h160v-160H180v160Zm440 0h160v-160H620v160Z\"/>\n",
              "  </svg>\n",
              "    </button>\n",
              "\n",
              "  <style>\n",
              "    .colab-df-container {\n",
              "      display:flex;\n",
              "      gap: 12px;\n",
              "    }\n",
              "\n",
              "    .colab-df-convert {\n",
              "      background-color: #E8F0FE;\n",
              "      border: none;\n",
              "      border-radius: 50%;\n",
              "      cursor: pointer;\n",
              "      display: none;\n",
              "      fill: #1967D2;\n",
              "      height: 32px;\n",
              "      padding: 0 0 0 0;\n",
              "      width: 32px;\n",
              "    }\n",
              "\n",
              "    .colab-df-convert:hover {\n",
              "      background-color: #E2EBFA;\n",
              "      box-shadow: 0px 1px 2px rgba(60, 64, 67, 0.3), 0px 1px 3px 1px rgba(60, 64, 67, 0.15);\n",
              "      fill: #174EA6;\n",
              "    }\n",
              "\n",
              "    .colab-df-buttons div {\n",
              "      margin-bottom: 4px;\n",
              "    }\n",
              "\n",
              "    [theme=dark] .colab-df-convert {\n",
              "      background-color: #3B4455;\n",
              "      fill: #D2E3FC;\n",
              "    }\n",
              "\n",
              "    [theme=dark] .colab-df-convert:hover {\n",
              "      background-color: #434B5C;\n",
              "      box-shadow: 0px 1px 3px 1px rgba(0, 0, 0, 0.15);\n",
              "      filter: drop-shadow(0px 1px 2px rgba(0, 0, 0, 0.3));\n",
              "      fill: #FFFFFF;\n",
              "    }\n",
              "  </style>\n",
              "\n",
              "    <script>\n",
              "      const buttonEl =\n",
              "        document.querySelector('#df-73d864e6-8f45-437e-a41a-2be6bd48030f button.colab-df-convert');\n",
              "      buttonEl.style.display =\n",
              "        google.colab.kernel.accessAllowed ? 'block' : 'none';\n",
              "\n",
              "      async function convertToInteractive(key) {\n",
              "        const element = document.querySelector('#df-73d864e6-8f45-437e-a41a-2be6bd48030f');\n",
              "        const dataTable =\n",
              "          await google.colab.kernel.invokeFunction('convertToInteractive',\n",
              "                                                    [key], {});\n",
              "        if (!dataTable) return;\n",
              "\n",
              "        const docLinkHtml = 'Like what you see? Visit the ' +\n",
              "          '<a target=\"_blank\" href=https://colab.research.google.com/notebooks/data_table.ipynb>data table notebook</a>'\n",
              "          + ' to learn more about interactive tables.';\n",
              "        element.innerHTML = '';\n",
              "        dataTable['output_type'] = 'display_data';\n",
              "        await google.colab.output.renderOutput(dataTable, element);\n",
              "        const docLink = document.createElement('div');\n",
              "        docLink.innerHTML = docLinkHtml;\n",
              "        element.appendChild(docLink);\n",
              "      }\n",
              "    </script>\n",
              "  </div>\n",
              "\n",
              "\n",
              "<div id=\"df-0f25abbf-5689-48a3-8b6a-5070db0b0fe0\">\n",
              "  <button class=\"colab-df-quickchart\" onclick=\"quickchart('df-0f25abbf-5689-48a3-8b6a-5070db0b0fe0')\"\n",
              "            title=\"Suggest charts.\"\n",
              "            style=\"display:none;\">\n",
              "\n",
              "<svg xmlns=\"http://www.w3.org/2000/svg\" height=\"24px\"viewBox=\"0 0 24 24\"\n",
              "     width=\"24px\">\n",
              "    <g>\n",
              "        <path d=\"M19 3H5c-1.1 0-2 .9-2 2v14c0 1.1.9 2 2 2h14c1.1 0 2-.9 2-2V5c0-1.1-.9-2-2-2zM9 17H7v-7h2v7zm4 0h-2V7h2v10zm4 0h-2v-4h2v4z\"/>\n",
              "    </g>\n",
              "</svg>\n",
              "  </button>\n",
              "\n",
              "<style>\n",
              "  .colab-df-quickchart {\n",
              "      --bg-color: #E8F0FE;\n",
              "      --fill-color: #1967D2;\n",
              "      --hover-bg-color: #E2EBFA;\n",
              "      --hover-fill-color: #174EA6;\n",
              "      --disabled-fill-color: #AAA;\n",
              "      --disabled-bg-color: #DDD;\n",
              "  }\n",
              "\n",
              "  [theme=dark] .colab-df-quickchart {\n",
              "      --bg-color: #3B4455;\n",
              "      --fill-color: #D2E3FC;\n",
              "      --hover-bg-color: #434B5C;\n",
              "      --hover-fill-color: #FFFFFF;\n",
              "      --disabled-bg-color: #3B4455;\n",
              "      --disabled-fill-color: #666;\n",
              "  }\n",
              "\n",
              "  .colab-df-quickchart {\n",
              "    background-color: var(--bg-color);\n",
              "    border: none;\n",
              "    border-radius: 50%;\n",
              "    cursor: pointer;\n",
              "    display: none;\n",
              "    fill: var(--fill-color);\n",
              "    height: 32px;\n",
              "    padding: 0;\n",
              "    width: 32px;\n",
              "  }\n",
              "\n",
              "  .colab-df-quickchart:hover {\n",
              "    background-color: var(--hover-bg-color);\n",
              "    box-shadow: 0 1px 2px rgba(60, 64, 67, 0.3), 0 1px 3px 1px rgba(60, 64, 67, 0.15);\n",
              "    fill: var(--button-hover-fill-color);\n",
              "  }\n",
              "\n",
              "  .colab-df-quickchart-complete:disabled,\n",
              "  .colab-df-quickchart-complete:disabled:hover {\n",
              "    background-color: var(--disabled-bg-color);\n",
              "    fill: var(--disabled-fill-color);\n",
              "    box-shadow: none;\n",
              "  }\n",
              "\n",
              "  .colab-df-spinner {\n",
              "    border: 2px solid var(--fill-color);\n",
              "    border-color: transparent;\n",
              "    border-bottom-color: var(--fill-color);\n",
              "    animation:\n",
              "      spin 1s steps(1) infinite;\n",
              "  }\n",
              "\n",
              "  @keyframes spin {\n",
              "    0% {\n",
              "      border-color: transparent;\n",
              "      border-bottom-color: var(--fill-color);\n",
              "      border-left-color: var(--fill-color);\n",
              "    }\n",
              "    20% {\n",
              "      border-color: transparent;\n",
              "      border-left-color: var(--fill-color);\n",
              "      border-top-color: var(--fill-color);\n",
              "    }\n",
              "    30% {\n",
              "      border-color: transparent;\n",
              "      border-left-color: var(--fill-color);\n",
              "      border-top-color: var(--fill-color);\n",
              "      border-right-color: var(--fill-color);\n",
              "    }\n",
              "    40% {\n",
              "      border-color: transparent;\n",
              "      border-right-color: var(--fill-color);\n",
              "      border-top-color: var(--fill-color);\n",
              "    }\n",
              "    60% {\n",
              "      border-color: transparent;\n",
              "      border-right-color: var(--fill-color);\n",
              "    }\n",
              "    80% {\n",
              "      border-color: transparent;\n",
              "      border-right-color: var(--fill-color);\n",
              "      border-bottom-color: var(--fill-color);\n",
              "    }\n",
              "    90% {\n",
              "      border-color: transparent;\n",
              "      border-bottom-color: var(--fill-color);\n",
              "    }\n",
              "  }\n",
              "</style>\n",
              "\n",
              "  <script>\n",
              "    async function quickchart(key) {\n",
              "      const quickchartButtonEl =\n",
              "        document.querySelector('#' + key + ' button');\n",
              "      quickchartButtonEl.disabled = true;  // To prevent multiple clicks.\n",
              "      quickchartButtonEl.classList.add('colab-df-spinner');\n",
              "      try {\n",
              "        const charts = await google.colab.kernel.invokeFunction(\n",
              "            'suggestCharts', [key], {});\n",
              "      } catch (error) {\n",
              "        console.error('Error during call to suggestCharts:', error);\n",
              "      }\n",
              "      quickchartButtonEl.classList.remove('colab-df-spinner');\n",
              "      quickchartButtonEl.classList.add('colab-df-quickchart-complete');\n",
              "    }\n",
              "    (() => {\n",
              "      let quickchartButtonEl =\n",
              "        document.querySelector('#df-0f25abbf-5689-48a3-8b6a-5070db0b0fe0 button');\n",
              "      quickchartButtonEl.style.display =\n",
              "        google.colab.kernel.accessAllowed ? 'block' : 'none';\n",
              "    })();\n",
              "  </script>\n",
              "</div>\n",
              "    </div>\n",
              "  </div>\n"
            ]
          },
          "metadata": {},
          "execution_count": 48
        }
      ]
    },
    {
      "cell_type": "code",
      "source": [
        "# !cp '/content/generated_datasets/train_tensors.csv' '/content/gdrive/MyDrive/train_tensors.csv'"
      ],
      "metadata": {
        "id": "x_O4oWM1cjZX"
      },
      "execution_count": null,
      "outputs": []
    },
    {
      "cell_type": "code",
      "source": [
        "class TensorTrainDataset(Dataset):\n",
        "    def __init__(self, annotations_file, tensor_dir, transform=None, target_transform=None):\n",
        "        self.tensor_labels = pd.read_csv(annotations_file, low_memory=False)\n",
        "        self.tensor_dir = tensor_dir\n",
        "        self.transform = transform\n",
        "        self.target_transform = target_transform\n",
        "\n",
        "    def __len__(self):\n",
        "        return len(self.tensor_labels)\n",
        "\n",
        "    def __getitem__(self, idx):\n",
        "        tensor1_path = os.path.join(self.tensor_dir, self.tensor_labels.iloc[idx, 3])\n",
        "        tensor2_path = os.path.join(self.tensor_dir, self.tensor_labels.iloc[idx, 4])\n",
        "        tensor1 = torch.load(tensor1_path)\n",
        "        tensor2 = torch.load(tensor2_path)\n",
        "        label = self.tensor_labels.iloc[idx, 2]\n",
        "        if self.transform:\n",
        "            tensor1 = self.transform(tensor1)\n",
        "            tensor2 = self.transform(tensor2)\n",
        "        if self.target_transform:\n",
        "            label = self.target_transform(label)\n",
        "        return tensor1, tensor2, label"
      ],
      "metadata": {
        "id": "X_pugpNmInEH"
      },
      "execution_count": null,
      "outputs": []
    },
    {
      "cell_type": "code",
      "source": [
        "class ImageDistanceModel(nn.Module):\n",
        "    def __init__(self):\n",
        "        super(ImageDistanceModel, self).__init__()\n",
        "        self.linear1 = nn.Linear(1536, 1536)\n",
        "        self.linear1.weight.data.copy_(torch.eye(1536))\n",
        "        self.linear1.bias.data.fill_(0)\n",
        "        self.linear2 = nn.Linear(1536, 1536)\n",
        "        self.linear2.weight.data.copy_(torch.eye(1536))\n",
        "        self.linear2.bias.data.fill_(0)\n",
        "        self.dist1 = nn.CosineSimilarity()\n",
        "        self.dist2 = nn.CosineSimilarity()\n",
        "\n",
        "    def forward(self, tensor1, tensor2):\n",
        "        emb1 = self.linear1(tensor1)\n",
        "        emb2 = self.linear2(tensor2)\n",
        "        score1 = torch.abs(self.dist1(emb1, tensor2))\n",
        "        score2 = torch.abs(self.dist2(emb2, tensor1))\n",
        "        distance = torch.div(torch.add(score1, score2), 2)\n",
        "        return distance"
      ],
      "metadata": {
        "id": "gr-aT08vFFlG"
      },
      "execution_count": null,
      "outputs": []
    },
    {
      "cell_type": "code",
      "source": [
        "class CosineContrastiveLoss(nn.Module):\n",
        "    def __init__(self):\n",
        "        super(CosineContrastiveLoss, self).__init__()\n",
        "\n",
        "    def forward(self, dist, label, margin: float = 1.0):\n",
        "        # label = 1 -> similar, label = 0 -> dissimilar\n",
        "        dist = 1 - dist # in cosine distance 0 means large distance and 1 means low distance\n",
        "        loss = label * dist + (1 - label) * torch.clamp(margin - dist, min=0.0)\n",
        "        loss = torch.mean(loss)\n",
        "        return loss"
      ],
      "metadata": {
        "id": "IPgwldpV8YXc"
      },
      "execution_count": null,
      "outputs": []
    },
    {
      "cell_type": "code",
      "source": [
        "ll_model = ImageDistanceModel()\n",
        "ll_model = ll_model.to('cuda')\n",
        "\n",
        "train_tensor_dataset = TensorTrainDataset(\"generated_datasets/train_tensors.csv\", \"\")\n",
        "train_tensor_dataloader = DataLoader(train_tensor_dataset, batch_size=16, shuffle=False)\n",
        "\n",
        "# Optimizers specified in the torch.optim package\n",
        "optimizer = torch.optim.SGD(ll_model.parameters(), lr=0.01, momentum=0.9)\n",
        "\n",
        "# Define loss function\n",
        "loss_fn = CosineContrastiveLoss()\n",
        "\n",
        "def train_one_epoch(model):\n",
        "    train_loss = 0\n",
        "    num_batches = 0\n",
        "\n",
        "    # Here, we use enumerate(training_loader) instead of\n",
        "    # iter(training_loader) so that we can track the batch\n",
        "    # index and do some intra-epoch reporting\n",
        "    for i, data in enumerate(tqdm(train_tensor_dataloader)):\n",
        "        # Every data instance is an input + label pair\n",
        "        tensor1, tensor2, labels = data\n",
        "        tensor1, tensor2, labels = tensor1.to('cuda'), tensor2.to('cuda'), labels.to('cuda')\n",
        "\n",
        "        # Zero your gradients for every batch!\n",
        "        optimizer.zero_grad()\n",
        "\n",
        "        # Make predictions for this batch\n",
        "        outputs = model(tensor1, tensor2)\n",
        "\n",
        "        # Compute the loss and its gradients\n",
        "        loss = loss_fn(outputs, labels)\n",
        "        loss.backward()\n",
        "\n",
        "        # Adjust learning weights\n",
        "        optimizer.step()\n",
        "\n",
        "        # Gather data to calculate the training loss\n",
        "        train_loss += loss.item()\n",
        "        num_batches += 1\n",
        "\n",
        "    return train_loss / num_batches"
      ],
      "metadata": {
        "id": "LxzvqssxKhPd"
      },
      "execution_count": null,
      "outputs": []
    },
    {
      "cell_type": "code",
      "source": [
        "def validate(query_tensor_dictionary, query_label_dictionary, model, loss_fn):\n",
        "    APs_cosine = []\n",
        "    for i in tqdm(range(len(query_tensor_dictionary))):\n",
        "        query_tensor_ = query_tensor_dictionary[i].to('cuda')\n",
        "        act_label = query_label_dictionary[i].to('cuda')\n",
        "\n",
        "        cosine = None\n",
        "        pred_labels = None\n",
        "        for k in range(len(tensor_dict)):\n",
        "            num_gallery_tensors = tensor_dict[k].shape[0]\n",
        "            query_tensor = query_tensor_.repeat(num_gallery_tensors, 1)\n",
        "\n",
        "            gallery_tensors = tensor_dict[k].to('cuda')\n",
        "            gallery_labels = label_dict[k].to('cuda')\n",
        "\n",
        "            if cosine == None:\n",
        "                cosine = model(query_tensor, gallery_tensors)\n",
        "                pred_labels = gallery_labels\n",
        "            else:\n",
        "                cosine = torch.cat((cosine, model(query_tensor, gallery_tensors)), dim=0)\n",
        "                pred_labels = torch.cat((pred_labels, gallery_labels), dim=0)\n",
        "\n",
        "        # calculate contrastive loss\n",
        "        label = torch.eq(pred_labels, act_label).int()\n",
        "        loss = loss_fn(cosine, label)\n",
        "\n",
        "        # calculate mAP value\n",
        "        cosine_, cosine_indices = torch.sort(torch.abs(cosine), descending=True)\n",
        "        pred_labels_cosine = pred_labels[cosine_indices]\n",
        "        APs_cosine.append(AP(act_label.item(), pred_labels_cosine.cpu().numpy().astype(int).tolist()))\n",
        "    return loss, mAP(APs_cosine)"
      ],
      "metadata": {
        "id": "BMQeSPq3KKrI"
      },
      "execution_count": null,
      "outputs": []
    },
    {
      "cell_type": "code",
      "source": [
        "!mkdir \"/content/saved_models\""
      ],
      "metadata": {
        "colab": {
          "base_uri": "https://localhost:8080/"
        },
        "id": "wx-vYu8oS8Og",
        "outputId": "1fda94ef-0104-412b-ace1-6bba281814bb"
      },
      "execution_count": null,
      "outputs": [
        {
          "output_type": "stream",
          "name": "stdout",
          "text": [
            "mkdir: cannot create directory ‘/content/saved_models’: File exists\n"
          ]
        }
      ]
    },
    {
      "cell_type": "code",
      "source": [
        "experiment_name = 'exp1'\n",
        "\n",
        "epoch_number = 0\n",
        "EPOCHS = 10\n",
        "\n",
        "best_vloss = 10000\n",
        "best_vloss_epoch = 0\n",
        "best_model_val_loss = None\n",
        "\n",
        "best_mAP = 0\n",
        "best_mAP_epoch = 0\n",
        "best_model_mAP = None\n",
        "\n",
        "for epoch in range(EPOCHS):\n",
        "    print('EPOCH {}: \\nTraining...'.format(epoch_number + 1))\n",
        "\n",
        "    # Make sure gradient tracking is on, and do a pass over the data\n",
        "    ll_model.train(True)\n",
        "    train_loss = train_one_epoch(ll_model)\n",
        "\n",
        "\n",
        "    running_vloss = 0.0\n",
        "    # Set the model to evaluation mode, disabling dropout and using population\n",
        "    # statistics for batch normalization.\n",
        "    ll_model.eval()\n",
        "\n",
        "    # Disable gradient computation and reduce memory consumption.\n",
        "    with torch.no_grad():\n",
        "        print('Validating...')\n",
        "        val_loss, mAP_score = validate(crop_query_tensor_dict, crop_query_label_dict, ll_model, loss_fn)\n",
        "\n",
        "    print('LOSS train {} valid {} \\nEVAL METRIC mAP: {}\\n'.format(train_loss, val_loss, mAP_score))\n",
        "\n",
        "    # Track best performance, and save the model's state\n",
        "    if val_loss < best_vloss:\n",
        "        best_vloss = val_loss\n",
        "        best_vloss_epoch = epoch_number + 1\n",
        "        best_model_val_loss = ll_model.state_dict()\n",
        "\n",
        "    if mAP_score > best_mAP:\n",
        "        best_mAP = mAP_score\n",
        "        best_mAP_epoch = epoch_number + 1\n",
        "        best_model_mAP = ll_model.state_dict()\n",
        "\n",
        "    epoch_number += 1\n",
        "\n",
        "model_path = '/content/saved_models/model_with_best_val_loss_{}_{}'.format(experiment_name, best_vloss_epoch)\n",
        "torch.save(best_model_val_loss, model_path)\n",
        "\n",
        "model_path = '/content/saved_models/model_with_best_mAP_{}_{}'.format(experiment_name, best_mAP_epoch)\n",
        "torch.save(best_model_mAP, model_path)"
      ],
      "metadata": {
        "id": "QILDISgzN36w",
        "colab": {
          "base_uri": "https://localhost:8080/",
          "height": 1000
        },
        "outputId": "59003dc1-44e6-4c98-e77e-6e697ac178ea"
      },
      "execution_count": null,
      "outputs": [
        {
          "output_type": "stream",
          "name": "stdout",
          "text": [
            "EPOCH 1: \n",
            "Training...\n"
          ]
        },
        {
          "output_type": "stream",
          "name": "stderr",
          "text": [
            "100%|██████████| 12720/12720 [24:09<00:00,  8.77it/s]\n"
          ]
        },
        {
          "output_type": "stream",
          "name": "stdout",
          "text": [
            "Validating...\n"
          ]
        },
        {
          "output_type": "stream",
          "name": "stderr",
          "text": [
            "100%|██████████| 1935/1935 [00:52<00:00, 37.06it/s]\n"
          ]
        },
        {
          "output_type": "stream",
          "name": "stdout",
          "text": [
            "LOSS train 0.13323810024643845 valid 0.23063623905181885 \n",
            "EVAL METRIC mAP: 0.17801866473841246\n",
            "\n",
            "EPOCH 2: \n",
            "Training...\n"
          ]
        },
        {
          "output_type": "stream",
          "name": "stderr",
          "text": [
            "100%|██████████| 12720/12720 [24:07<00:00,  8.79it/s]\n"
          ]
        },
        {
          "output_type": "stream",
          "name": "stdout",
          "text": [
            "Validating...\n"
          ]
        },
        {
          "output_type": "stream",
          "name": "stderr",
          "text": [
            "100%|██████████| 1935/1935 [00:55<00:00, 34.62it/s]\n"
          ]
        },
        {
          "output_type": "stream",
          "name": "stdout",
          "text": [
            "LOSS train 0.12407697798719383 valid 0.23087017238140106 \n",
            "EVAL METRIC mAP: 0.17739546583148247\n",
            "\n",
            "EPOCH 3: \n",
            "Training...\n"
          ]
        },
        {
          "output_type": "stream",
          "name": "stderr",
          "text": [
            "100%|██████████| 12720/12720 [24:16<00:00,  8.73it/s]\n"
          ]
        },
        {
          "output_type": "stream",
          "name": "stdout",
          "text": [
            "Validating...\n"
          ]
        },
        {
          "output_type": "stream",
          "name": "stderr",
          "text": [
            "100%|██████████| 1935/1935 [00:55<00:00, 35.15it/s]\n"
          ]
        },
        {
          "output_type": "stream",
          "name": "stdout",
          "text": [
            "LOSS train 0.12125375998651597 valid 0.23293928802013397 \n",
            "EVAL METRIC mAP: 0.180345153690817\n",
            "\n",
            "EPOCH 4: \n",
            "Training...\n"
          ]
        },
        {
          "output_type": "stream",
          "name": "stderr",
          "text": [
            "100%|██████████| 12720/12720 [24:22<00:00,  8.70it/s]\n"
          ]
        },
        {
          "output_type": "stream",
          "name": "stdout",
          "text": [
            "Validating...\n"
          ]
        },
        {
          "output_type": "stream",
          "name": "stderr",
          "text": [
            "100%|██████████| 1935/1935 [00:55<00:00, 35.14it/s]\n"
          ]
        },
        {
          "output_type": "stream",
          "name": "stdout",
          "text": [
            "LOSS train 0.1196804084823871 valid 0.232998788356781 \n",
            "EVAL METRIC mAP: 0.18151582636503663\n",
            "\n",
            "EPOCH 5: \n",
            "Training...\n"
          ]
        },
        {
          "output_type": "stream",
          "name": "stderr",
          "text": [
            " 93%|█████████▎| 11885/12720 [22:44<01:35,  8.71it/s]\n"
          ]
        },
        {
          "output_type": "error",
          "ename": "KeyboardInterrupt",
          "evalue": "ignored",
          "traceback": [
            "\u001b[0;31m---------------------------------------------------------------------------\u001b[0m",
            "\u001b[0;31mKeyboardInterrupt\u001b[0m                         Traceback (most recent call last)",
            "\u001b[0;32m<ipython-input-66-ab866fd7b3fc>\u001b[0m in \u001b[0;36m<cell line: 14>\u001b[0;34m()\u001b[0m\n\u001b[1;32m     17\u001b[0m     \u001b[0;31m# Make sure gradient tracking is on, and do a pass over the data\u001b[0m\u001b[0;34m\u001b[0m\u001b[0;34m\u001b[0m\u001b[0m\n\u001b[1;32m     18\u001b[0m     \u001b[0mll_model\u001b[0m\u001b[0;34m.\u001b[0m\u001b[0mtrain\u001b[0m\u001b[0;34m(\u001b[0m\u001b[0;32mTrue\u001b[0m\u001b[0;34m)\u001b[0m\u001b[0;34m\u001b[0m\u001b[0;34m\u001b[0m\u001b[0m\n\u001b[0;32m---> 19\u001b[0;31m     \u001b[0mtrain_loss\u001b[0m \u001b[0;34m=\u001b[0m \u001b[0mtrain_one_epoch\u001b[0m\u001b[0;34m(\u001b[0m\u001b[0mll_model\u001b[0m\u001b[0;34m)\u001b[0m\u001b[0;34m\u001b[0m\u001b[0;34m\u001b[0m\u001b[0m\n\u001b[0m\u001b[1;32m     20\u001b[0m \u001b[0;34m\u001b[0m\u001b[0m\n\u001b[1;32m     21\u001b[0m \u001b[0;34m\u001b[0m\u001b[0m\n",
            "\u001b[0;32m<ipython-input-63-6dfd0609765a>\u001b[0m in \u001b[0;36mtrain_one_epoch\u001b[0;34m(model)\u001b[0m\n\u001b[1;32m     18\u001b[0m     \u001b[0;31m# iter(training_loader) so that we can track the batch\u001b[0m\u001b[0;34m\u001b[0m\u001b[0;34m\u001b[0m\u001b[0m\n\u001b[1;32m     19\u001b[0m     \u001b[0;31m# index and do some intra-epoch reporting\u001b[0m\u001b[0;34m\u001b[0m\u001b[0;34m\u001b[0m\u001b[0m\n\u001b[0;32m---> 20\u001b[0;31m     \u001b[0;32mfor\u001b[0m \u001b[0mi\u001b[0m\u001b[0;34m,\u001b[0m \u001b[0mdata\u001b[0m \u001b[0;32min\u001b[0m \u001b[0menumerate\u001b[0m\u001b[0;34m(\u001b[0m\u001b[0mtqdm\u001b[0m\u001b[0;34m(\u001b[0m\u001b[0mtrain_tensor_dataloader\u001b[0m\u001b[0;34m)\u001b[0m\u001b[0;34m)\u001b[0m\u001b[0;34m:\u001b[0m\u001b[0;34m\u001b[0m\u001b[0;34m\u001b[0m\u001b[0m\n\u001b[0m\u001b[1;32m     21\u001b[0m         \u001b[0;31m# Every data instance is an input + label pair\u001b[0m\u001b[0;34m\u001b[0m\u001b[0;34m\u001b[0m\u001b[0m\n\u001b[1;32m     22\u001b[0m         \u001b[0mtensor1\u001b[0m\u001b[0;34m,\u001b[0m \u001b[0mtensor2\u001b[0m\u001b[0;34m,\u001b[0m \u001b[0mlabels\u001b[0m \u001b[0;34m=\u001b[0m \u001b[0mdata\u001b[0m\u001b[0;34m\u001b[0m\u001b[0;34m\u001b[0m\u001b[0m\n",
            "\u001b[0;32m/usr/local/lib/python3.10/dist-packages/tqdm/std.py\u001b[0m in \u001b[0;36m__iter__\u001b[0;34m(self)\u001b[0m\n\u001b[1;32m   1180\u001b[0m \u001b[0;34m\u001b[0m\u001b[0m\n\u001b[1;32m   1181\u001b[0m         \u001b[0;32mtry\u001b[0m\u001b[0;34m:\u001b[0m\u001b[0;34m\u001b[0m\u001b[0;34m\u001b[0m\u001b[0m\n\u001b[0;32m-> 1182\u001b[0;31m             \u001b[0;32mfor\u001b[0m \u001b[0mobj\u001b[0m \u001b[0;32min\u001b[0m \u001b[0miterable\u001b[0m\u001b[0;34m:\u001b[0m\u001b[0;34m\u001b[0m\u001b[0;34m\u001b[0m\u001b[0m\n\u001b[0m\u001b[1;32m   1183\u001b[0m                 \u001b[0;32myield\u001b[0m \u001b[0mobj\u001b[0m\u001b[0;34m\u001b[0m\u001b[0;34m\u001b[0m\u001b[0m\n\u001b[1;32m   1184\u001b[0m                 \u001b[0;31m# Update and possibly print the progressbar.\u001b[0m\u001b[0;34m\u001b[0m\u001b[0;34m\u001b[0m\u001b[0m\n",
            "\u001b[0;32m/usr/local/lib/python3.10/dist-packages/torch/utils/data/dataloader.py\u001b[0m in \u001b[0;36m__next__\u001b[0;34m(self)\u001b[0m\n\u001b[1;32m    631\u001b[0m                 \u001b[0;31m# TODO(https://github.com/pytorch/pytorch/issues/76750)\u001b[0m\u001b[0;34m\u001b[0m\u001b[0;34m\u001b[0m\u001b[0m\n\u001b[1;32m    632\u001b[0m                 \u001b[0mself\u001b[0m\u001b[0;34m.\u001b[0m\u001b[0m_reset\u001b[0m\u001b[0;34m(\u001b[0m\u001b[0;34m)\u001b[0m  \u001b[0;31m# type: ignore[call-arg]\u001b[0m\u001b[0;34m\u001b[0m\u001b[0;34m\u001b[0m\u001b[0m\n\u001b[0;32m--> 633\u001b[0;31m             \u001b[0mdata\u001b[0m \u001b[0;34m=\u001b[0m \u001b[0mself\u001b[0m\u001b[0;34m.\u001b[0m\u001b[0m_next_data\u001b[0m\u001b[0;34m(\u001b[0m\u001b[0;34m)\u001b[0m\u001b[0;34m\u001b[0m\u001b[0;34m\u001b[0m\u001b[0m\n\u001b[0m\u001b[1;32m    634\u001b[0m             \u001b[0mself\u001b[0m\u001b[0;34m.\u001b[0m\u001b[0m_num_yielded\u001b[0m \u001b[0;34m+=\u001b[0m \u001b[0;36m1\u001b[0m\u001b[0;34m\u001b[0m\u001b[0;34m\u001b[0m\u001b[0m\n\u001b[1;32m    635\u001b[0m             \u001b[0;32mif\u001b[0m \u001b[0mself\u001b[0m\u001b[0;34m.\u001b[0m\u001b[0m_dataset_kind\u001b[0m \u001b[0;34m==\u001b[0m \u001b[0m_DatasetKind\u001b[0m\u001b[0;34m.\u001b[0m\u001b[0mIterable\u001b[0m \u001b[0;32mand\u001b[0m\u001b[0;31m \u001b[0m\u001b[0;31m\\\u001b[0m\u001b[0;34m\u001b[0m\u001b[0;34m\u001b[0m\u001b[0m\n",
            "\u001b[0;32m/usr/local/lib/python3.10/dist-packages/torch/utils/data/dataloader.py\u001b[0m in \u001b[0;36m_next_data\u001b[0;34m(self)\u001b[0m\n\u001b[1;32m    675\u001b[0m     \u001b[0;32mdef\u001b[0m \u001b[0m_next_data\u001b[0m\u001b[0;34m(\u001b[0m\u001b[0mself\u001b[0m\u001b[0;34m)\u001b[0m\u001b[0;34m:\u001b[0m\u001b[0;34m\u001b[0m\u001b[0;34m\u001b[0m\u001b[0m\n\u001b[1;32m    676\u001b[0m         \u001b[0mindex\u001b[0m \u001b[0;34m=\u001b[0m \u001b[0mself\u001b[0m\u001b[0;34m.\u001b[0m\u001b[0m_next_index\u001b[0m\u001b[0;34m(\u001b[0m\u001b[0;34m)\u001b[0m  \u001b[0;31m# may raise StopIteration\u001b[0m\u001b[0;34m\u001b[0m\u001b[0;34m\u001b[0m\u001b[0m\n\u001b[0;32m--> 677\u001b[0;31m         \u001b[0mdata\u001b[0m \u001b[0;34m=\u001b[0m \u001b[0mself\u001b[0m\u001b[0;34m.\u001b[0m\u001b[0m_dataset_fetcher\u001b[0m\u001b[0;34m.\u001b[0m\u001b[0mfetch\u001b[0m\u001b[0;34m(\u001b[0m\u001b[0mindex\u001b[0m\u001b[0;34m)\u001b[0m  \u001b[0;31m# may raise StopIteration\u001b[0m\u001b[0;34m\u001b[0m\u001b[0;34m\u001b[0m\u001b[0m\n\u001b[0m\u001b[1;32m    678\u001b[0m         \u001b[0;32mif\u001b[0m \u001b[0mself\u001b[0m\u001b[0;34m.\u001b[0m\u001b[0m_pin_memory\u001b[0m\u001b[0;34m:\u001b[0m\u001b[0;34m\u001b[0m\u001b[0;34m\u001b[0m\u001b[0m\n\u001b[1;32m    679\u001b[0m             \u001b[0mdata\u001b[0m \u001b[0;34m=\u001b[0m \u001b[0m_utils\u001b[0m\u001b[0;34m.\u001b[0m\u001b[0mpin_memory\u001b[0m\u001b[0;34m.\u001b[0m\u001b[0mpin_memory\u001b[0m\u001b[0;34m(\u001b[0m\u001b[0mdata\u001b[0m\u001b[0;34m,\u001b[0m \u001b[0mself\u001b[0m\u001b[0;34m.\u001b[0m\u001b[0m_pin_memory_device\u001b[0m\u001b[0;34m)\u001b[0m\u001b[0;34m\u001b[0m\u001b[0;34m\u001b[0m\u001b[0m\n",
            "\u001b[0;32m/usr/local/lib/python3.10/dist-packages/torch/utils/data/_utils/fetch.py\u001b[0m in \u001b[0;36mfetch\u001b[0;34m(self, possibly_batched_index)\u001b[0m\n\u001b[1;32m     49\u001b[0m                 \u001b[0mdata\u001b[0m \u001b[0;34m=\u001b[0m \u001b[0mself\u001b[0m\u001b[0;34m.\u001b[0m\u001b[0mdataset\u001b[0m\u001b[0;34m.\u001b[0m\u001b[0m__getitems__\u001b[0m\u001b[0;34m(\u001b[0m\u001b[0mpossibly_batched_index\u001b[0m\u001b[0;34m)\u001b[0m\u001b[0;34m\u001b[0m\u001b[0;34m\u001b[0m\u001b[0m\n\u001b[1;32m     50\u001b[0m             \u001b[0;32melse\u001b[0m\u001b[0;34m:\u001b[0m\u001b[0;34m\u001b[0m\u001b[0;34m\u001b[0m\u001b[0m\n\u001b[0;32m---> 51\u001b[0;31m                 \u001b[0mdata\u001b[0m \u001b[0;34m=\u001b[0m \u001b[0;34m[\u001b[0m\u001b[0mself\u001b[0m\u001b[0;34m.\u001b[0m\u001b[0mdataset\u001b[0m\u001b[0;34m[\u001b[0m\u001b[0midx\u001b[0m\u001b[0;34m]\u001b[0m \u001b[0;32mfor\u001b[0m \u001b[0midx\u001b[0m \u001b[0;32min\u001b[0m \u001b[0mpossibly_batched_index\u001b[0m\u001b[0;34m]\u001b[0m\u001b[0;34m\u001b[0m\u001b[0;34m\u001b[0m\u001b[0m\n\u001b[0m\u001b[1;32m     52\u001b[0m         \u001b[0;32melse\u001b[0m\u001b[0;34m:\u001b[0m\u001b[0;34m\u001b[0m\u001b[0;34m\u001b[0m\u001b[0m\n\u001b[1;32m     53\u001b[0m             \u001b[0mdata\u001b[0m \u001b[0;34m=\u001b[0m \u001b[0mself\u001b[0m\u001b[0;34m.\u001b[0m\u001b[0mdataset\u001b[0m\u001b[0;34m[\u001b[0m\u001b[0mpossibly_batched_index\u001b[0m\u001b[0;34m]\u001b[0m\u001b[0;34m\u001b[0m\u001b[0;34m\u001b[0m\u001b[0m\n",
            "\u001b[0;32m/usr/local/lib/python3.10/dist-packages/torch/utils/data/_utils/fetch.py\u001b[0m in \u001b[0;36m<listcomp>\u001b[0;34m(.0)\u001b[0m\n\u001b[1;32m     49\u001b[0m                 \u001b[0mdata\u001b[0m \u001b[0;34m=\u001b[0m \u001b[0mself\u001b[0m\u001b[0;34m.\u001b[0m\u001b[0mdataset\u001b[0m\u001b[0;34m.\u001b[0m\u001b[0m__getitems__\u001b[0m\u001b[0;34m(\u001b[0m\u001b[0mpossibly_batched_index\u001b[0m\u001b[0;34m)\u001b[0m\u001b[0;34m\u001b[0m\u001b[0;34m\u001b[0m\u001b[0m\n\u001b[1;32m     50\u001b[0m             \u001b[0;32melse\u001b[0m\u001b[0;34m:\u001b[0m\u001b[0;34m\u001b[0m\u001b[0;34m\u001b[0m\u001b[0m\n\u001b[0;32m---> 51\u001b[0;31m                 \u001b[0mdata\u001b[0m \u001b[0;34m=\u001b[0m \u001b[0;34m[\u001b[0m\u001b[0mself\u001b[0m\u001b[0;34m.\u001b[0m\u001b[0mdataset\u001b[0m\u001b[0;34m[\u001b[0m\u001b[0midx\u001b[0m\u001b[0;34m]\u001b[0m \u001b[0;32mfor\u001b[0m \u001b[0midx\u001b[0m \u001b[0;32min\u001b[0m \u001b[0mpossibly_batched_index\u001b[0m\u001b[0;34m]\u001b[0m\u001b[0;34m\u001b[0m\u001b[0;34m\u001b[0m\u001b[0m\n\u001b[0m\u001b[1;32m     52\u001b[0m         \u001b[0;32melse\u001b[0m\u001b[0;34m:\u001b[0m\u001b[0;34m\u001b[0m\u001b[0;34m\u001b[0m\u001b[0m\n\u001b[1;32m     53\u001b[0m             \u001b[0mdata\u001b[0m \u001b[0;34m=\u001b[0m \u001b[0mself\u001b[0m\u001b[0;34m.\u001b[0m\u001b[0mdataset\u001b[0m\u001b[0;34m[\u001b[0m\u001b[0mpossibly_batched_index\u001b[0m\u001b[0;34m]\u001b[0m\u001b[0;34m\u001b[0m\u001b[0;34m\u001b[0m\u001b[0m\n",
            "\u001b[0;32m<ipython-input-50-f77cae813bae>\u001b[0m in \u001b[0;36m__getitem__\u001b[0;34m(self, idx)\u001b[0m\n\u001b[1;32m     13\u001b[0m         \u001b[0mtensor2_path\u001b[0m \u001b[0;34m=\u001b[0m \u001b[0mos\u001b[0m\u001b[0;34m.\u001b[0m\u001b[0mpath\u001b[0m\u001b[0;34m.\u001b[0m\u001b[0mjoin\u001b[0m\u001b[0;34m(\u001b[0m\u001b[0mself\u001b[0m\u001b[0;34m.\u001b[0m\u001b[0mtensor_dir\u001b[0m\u001b[0;34m,\u001b[0m \u001b[0mself\u001b[0m\u001b[0;34m.\u001b[0m\u001b[0mtensor_labels\u001b[0m\u001b[0;34m.\u001b[0m\u001b[0miloc\u001b[0m\u001b[0;34m[\u001b[0m\u001b[0midx\u001b[0m\u001b[0;34m,\u001b[0m \u001b[0;36m4\u001b[0m\u001b[0;34m]\u001b[0m\u001b[0;34m)\u001b[0m\u001b[0;34m\u001b[0m\u001b[0;34m\u001b[0m\u001b[0m\n\u001b[1;32m     14\u001b[0m         \u001b[0mtensor1\u001b[0m \u001b[0;34m=\u001b[0m \u001b[0mtorch\u001b[0m\u001b[0;34m.\u001b[0m\u001b[0mload\u001b[0m\u001b[0;34m(\u001b[0m\u001b[0mtensor1_path\u001b[0m\u001b[0;34m)\u001b[0m\u001b[0;34m\u001b[0m\u001b[0;34m\u001b[0m\u001b[0m\n\u001b[0;32m---> 15\u001b[0;31m         \u001b[0mtensor2\u001b[0m \u001b[0;34m=\u001b[0m \u001b[0mtorch\u001b[0m\u001b[0;34m.\u001b[0m\u001b[0mload\u001b[0m\u001b[0;34m(\u001b[0m\u001b[0mtensor2_path\u001b[0m\u001b[0;34m)\u001b[0m\u001b[0;34m\u001b[0m\u001b[0;34m\u001b[0m\u001b[0m\n\u001b[0m\u001b[1;32m     16\u001b[0m         \u001b[0mlabel\u001b[0m \u001b[0;34m=\u001b[0m \u001b[0mself\u001b[0m\u001b[0;34m.\u001b[0m\u001b[0mtensor_labels\u001b[0m\u001b[0;34m.\u001b[0m\u001b[0miloc\u001b[0m\u001b[0;34m[\u001b[0m\u001b[0midx\u001b[0m\u001b[0;34m,\u001b[0m \u001b[0;36m2\u001b[0m\u001b[0;34m]\u001b[0m\u001b[0;34m\u001b[0m\u001b[0;34m\u001b[0m\u001b[0m\n\u001b[1;32m     17\u001b[0m         \u001b[0;32mif\u001b[0m \u001b[0mself\u001b[0m\u001b[0;34m.\u001b[0m\u001b[0mtransform\u001b[0m\u001b[0;34m:\u001b[0m\u001b[0;34m\u001b[0m\u001b[0;34m\u001b[0m\u001b[0m\n",
            "\u001b[0;32m/usr/local/lib/python3.10/dist-packages/torch/serialization.py\u001b[0m in \u001b[0;36mload\u001b[0;34m(f, map_location, pickle_module, weights_only, **pickle_load_args)\u001b[0m\n\u001b[1;32m    807\u001b[0m                     \u001b[0;32mexcept\u001b[0m \u001b[0mRuntimeError\u001b[0m \u001b[0;32mas\u001b[0m \u001b[0me\u001b[0m\u001b[0;34m:\u001b[0m\u001b[0;34m\u001b[0m\u001b[0;34m\u001b[0m\u001b[0m\n\u001b[1;32m    808\u001b[0m                         \u001b[0;32mraise\u001b[0m \u001b[0mpickle\u001b[0m\u001b[0;34m.\u001b[0m\u001b[0mUnpicklingError\u001b[0m\u001b[0;34m(\u001b[0m\u001b[0mUNSAFE_MESSAGE\u001b[0m \u001b[0;34m+\u001b[0m \u001b[0mstr\u001b[0m\u001b[0;34m(\u001b[0m\u001b[0me\u001b[0m\u001b[0;34m)\u001b[0m\u001b[0;34m)\u001b[0m \u001b[0;32mfrom\u001b[0m \u001b[0;32mNone\u001b[0m\u001b[0;34m\u001b[0m\u001b[0;34m\u001b[0m\u001b[0m\n\u001b[0;32m--> 809\u001b[0;31m                 \u001b[0;32mreturn\u001b[0m \u001b[0m_load\u001b[0m\u001b[0;34m(\u001b[0m\u001b[0mopened_zipfile\u001b[0m\u001b[0;34m,\u001b[0m \u001b[0mmap_location\u001b[0m\u001b[0;34m,\u001b[0m \u001b[0mpickle_module\u001b[0m\u001b[0;34m,\u001b[0m \u001b[0;34m**\u001b[0m\u001b[0mpickle_load_args\u001b[0m\u001b[0;34m)\u001b[0m\u001b[0;34m\u001b[0m\u001b[0;34m\u001b[0m\u001b[0m\n\u001b[0m\u001b[1;32m    810\u001b[0m         \u001b[0;32mif\u001b[0m \u001b[0mweights_only\u001b[0m\u001b[0;34m:\u001b[0m\u001b[0;34m\u001b[0m\u001b[0;34m\u001b[0m\u001b[0m\n\u001b[1;32m    811\u001b[0m             \u001b[0;32mtry\u001b[0m\u001b[0;34m:\u001b[0m\u001b[0;34m\u001b[0m\u001b[0;34m\u001b[0m\u001b[0m\n",
            "\u001b[0;32m/usr/local/lib/python3.10/dist-packages/torch/serialization.py\u001b[0m in \u001b[0;36m_load\u001b[0;34m(zip_file, map_location, pickle_module, pickle_file, **pickle_load_args)\u001b[0m\n\u001b[1;32m   1170\u001b[0m     \u001b[0munpickler\u001b[0m \u001b[0;34m=\u001b[0m \u001b[0mUnpicklerWrapper\u001b[0m\u001b[0;34m(\u001b[0m\u001b[0mdata_file\u001b[0m\u001b[0;34m,\u001b[0m \u001b[0;34m**\u001b[0m\u001b[0mpickle_load_args\u001b[0m\u001b[0;34m)\u001b[0m\u001b[0;34m\u001b[0m\u001b[0;34m\u001b[0m\u001b[0m\n\u001b[1;32m   1171\u001b[0m     \u001b[0munpickler\u001b[0m\u001b[0;34m.\u001b[0m\u001b[0mpersistent_load\u001b[0m \u001b[0;34m=\u001b[0m \u001b[0mpersistent_load\u001b[0m\u001b[0;34m\u001b[0m\u001b[0;34m\u001b[0m\u001b[0m\n\u001b[0;32m-> 1172\u001b[0;31m     \u001b[0mresult\u001b[0m \u001b[0;34m=\u001b[0m \u001b[0munpickler\u001b[0m\u001b[0;34m.\u001b[0m\u001b[0mload\u001b[0m\u001b[0;34m(\u001b[0m\u001b[0;34m)\u001b[0m\u001b[0;34m\u001b[0m\u001b[0;34m\u001b[0m\u001b[0m\n\u001b[0m\u001b[1;32m   1173\u001b[0m \u001b[0;34m\u001b[0m\u001b[0m\n\u001b[1;32m   1174\u001b[0m     \u001b[0mtorch\u001b[0m\u001b[0;34m.\u001b[0m\u001b[0m_utils\u001b[0m\u001b[0;34m.\u001b[0m\u001b[0m_validate_loaded_sparse_tensors\u001b[0m\u001b[0;34m(\u001b[0m\u001b[0;34m)\u001b[0m\u001b[0;34m\u001b[0m\u001b[0;34m\u001b[0m\u001b[0m\n",
            "\u001b[0;32m/usr/local/lib/python3.10/dist-packages/torch/serialization.py\u001b[0m in \u001b[0;36mpersistent_load\u001b[0;34m(saved_id)\u001b[0m\n\u001b[1;32m   1140\u001b[0m         \u001b[0;32melse\u001b[0m\u001b[0;34m:\u001b[0m\u001b[0;34m\u001b[0m\u001b[0;34m\u001b[0m\u001b[0m\n\u001b[1;32m   1141\u001b[0m             \u001b[0mnbytes\u001b[0m \u001b[0;34m=\u001b[0m \u001b[0mnumel\u001b[0m \u001b[0;34m*\u001b[0m \u001b[0mtorch\u001b[0m\u001b[0;34m.\u001b[0m\u001b[0m_utils\u001b[0m\u001b[0;34m.\u001b[0m\u001b[0m_element_size\u001b[0m\u001b[0;34m(\u001b[0m\u001b[0mdtype\u001b[0m\u001b[0;34m)\u001b[0m\u001b[0;34m\u001b[0m\u001b[0;34m\u001b[0m\u001b[0m\n\u001b[0;32m-> 1142\u001b[0;31m             \u001b[0mtyped_storage\u001b[0m \u001b[0;34m=\u001b[0m \u001b[0mload_tensor\u001b[0m\u001b[0;34m(\u001b[0m\u001b[0mdtype\u001b[0m\u001b[0;34m,\u001b[0m \u001b[0mnbytes\u001b[0m\u001b[0;34m,\u001b[0m \u001b[0mkey\u001b[0m\u001b[0;34m,\u001b[0m \u001b[0m_maybe_decode_ascii\u001b[0m\u001b[0;34m(\u001b[0m\u001b[0mlocation\u001b[0m\u001b[0;34m)\u001b[0m\u001b[0;34m)\u001b[0m\u001b[0;34m\u001b[0m\u001b[0;34m\u001b[0m\u001b[0m\n\u001b[0m\u001b[1;32m   1143\u001b[0m \u001b[0;34m\u001b[0m\u001b[0m\n\u001b[1;32m   1144\u001b[0m         \u001b[0;32mreturn\u001b[0m \u001b[0mtyped_storage\u001b[0m\u001b[0;34m\u001b[0m\u001b[0;34m\u001b[0m\u001b[0m\n",
            "\u001b[0;32m/usr/local/lib/python3.10/dist-packages/torch/serialization.py\u001b[0m in \u001b[0;36mload_tensor\u001b[0;34m(dtype, numel, key, location)\u001b[0m\n\u001b[1;32m   1110\u001b[0m         \u001b[0mname\u001b[0m \u001b[0;34m=\u001b[0m \u001b[0;34mf'data/{key}'\u001b[0m\u001b[0;34m\u001b[0m\u001b[0;34m\u001b[0m\u001b[0m\n\u001b[1;32m   1111\u001b[0m \u001b[0;34m\u001b[0m\u001b[0m\n\u001b[0;32m-> 1112\u001b[0;31m         \u001b[0mstorage\u001b[0m \u001b[0;34m=\u001b[0m \u001b[0mzip_file\u001b[0m\u001b[0;34m.\u001b[0m\u001b[0mget_storage_from_record\u001b[0m\u001b[0;34m(\u001b[0m\u001b[0mname\u001b[0m\u001b[0;34m,\u001b[0m \u001b[0mnumel\u001b[0m\u001b[0;34m,\u001b[0m \u001b[0mtorch\u001b[0m\u001b[0;34m.\u001b[0m\u001b[0mUntypedStorage\u001b[0m\u001b[0;34m)\u001b[0m\u001b[0;34m.\u001b[0m\u001b[0m_typed_storage\u001b[0m\u001b[0;34m(\u001b[0m\u001b[0;34m)\u001b[0m\u001b[0;34m.\u001b[0m\u001b[0m_untyped_storage\u001b[0m\u001b[0;34m\u001b[0m\u001b[0;34m\u001b[0m\u001b[0m\n\u001b[0m\u001b[1;32m   1113\u001b[0m         \u001b[0;31m# TODO: Once we decide to break serialization FC, we can\u001b[0m\u001b[0;34m\u001b[0m\u001b[0;34m\u001b[0m\u001b[0m\n\u001b[1;32m   1114\u001b[0m         \u001b[0;31m# stop wrapping with TypedStorage\u001b[0m\u001b[0;34m\u001b[0m\u001b[0;34m\u001b[0m\u001b[0m\n",
            "\u001b[0;31mKeyboardInterrupt\u001b[0m: "
          ]
        }
      ]
    }
  ],
  "metadata": {
    "kernelspec": {
      "display_name": "Python 3",
      "name": "python3"
    },
    "language_info": {
      "codemirror_mode": {
        "name": "ipython",
        "version": 3
      },
      "file_extension": ".py",
      "mimetype": "text/x-python",
      "name": "python",
      "nbconvert_exporter": "python",
      "pygments_lexer": "ipython3",
      "version": "3.11.4"
    },
    "colab": {
      "provenance": [],
      "gpuType": "T4"
    },
    "widgets": {
      "application/vnd.jupyter.widget-state+json": {
        "371d4615c7dc41ea868244925214b863": {
          "model_module": "@jupyter-widgets/controls",
          "model_name": "HBoxModel",
          "model_module_version": "1.5.0",
          "state": {
            "_dom_classes": [],
            "_model_module": "@jupyter-widgets/controls",
            "_model_module_version": "1.5.0",
            "_model_name": "HBoxModel",
            "_view_count": null,
            "_view_module": "@jupyter-widgets/controls",
            "_view_module_version": "1.5.0",
            "_view_name": "HBoxView",
            "box_style": "",
            "children": [
              "IPY_MODEL_d59b538ed6514eccaa88314e7e660e1a",
              "IPY_MODEL_c262eb84f5ac4ce4963b046d89a4464a",
              "IPY_MODEL_298bad7410d64aef99c71b9092140b70"
            ],
            "layout": "IPY_MODEL_9a51d71de84f419ca7d40c2c70949767"
          }
        },
        "d59b538ed6514eccaa88314e7e660e1a": {
          "model_module": "@jupyter-widgets/controls",
          "model_name": "HTMLModel",
          "model_module_version": "1.5.0",
          "state": {
            "_dom_classes": [],
            "_model_module": "@jupyter-widgets/controls",
            "_model_module_version": "1.5.0",
            "_model_name": "HTMLModel",
            "_view_count": null,
            "_view_module": "@jupyter-widgets/controls",
            "_view_module_version": "1.5.0",
            "_view_name": "HTMLView",
            "description": "",
            "description_tooltip": null,
            "layout": "IPY_MODEL_447bd6022b384225a5b27fcae1ccf5ef",
            "placeholder": "​",
            "style": "IPY_MODEL_fc9707eeb8ba47a29ce1aefbc341c220",
            "value": "Downloading (…)rocessor_config.json: 100%"
          }
        },
        "c262eb84f5ac4ce4963b046d89a4464a": {
          "model_module": "@jupyter-widgets/controls",
          "model_name": "FloatProgressModel",
          "model_module_version": "1.5.0",
          "state": {
            "_dom_classes": [],
            "_model_module": "@jupyter-widgets/controls",
            "_model_module_version": "1.5.0",
            "_model_name": "FloatProgressModel",
            "_view_count": null,
            "_view_module": "@jupyter-widgets/controls",
            "_view_module_version": "1.5.0",
            "_view_name": "ProgressView",
            "bar_style": "success",
            "description": "",
            "description_tooltip": null,
            "layout": "IPY_MODEL_d25458027c2a474a8086b2a8015014ac",
            "max": 436,
            "min": 0,
            "orientation": "horizontal",
            "style": "IPY_MODEL_eab2d5282f0d41b9aab3141e81d03a97",
            "value": 436
          }
        },
        "298bad7410d64aef99c71b9092140b70": {
          "model_module": "@jupyter-widgets/controls",
          "model_name": "HTMLModel",
          "model_module_version": "1.5.0",
          "state": {
            "_dom_classes": [],
            "_model_module": "@jupyter-widgets/controls",
            "_model_module_version": "1.5.0",
            "_model_name": "HTMLModel",
            "_view_count": null,
            "_view_module": "@jupyter-widgets/controls",
            "_view_module_version": "1.5.0",
            "_view_name": "HTMLView",
            "description": "",
            "description_tooltip": null,
            "layout": "IPY_MODEL_53885949c4ac423eb44001f9ffd05e45",
            "placeholder": "​",
            "style": "IPY_MODEL_d480f9b846654484b8f0218bf5d6c108",
            "value": " 436/436 [00:00&lt;00:00, 25.6kB/s]"
          }
        },
        "9a51d71de84f419ca7d40c2c70949767": {
          "model_module": "@jupyter-widgets/base",
          "model_name": "LayoutModel",
          "model_module_version": "1.2.0",
          "state": {
            "_model_module": "@jupyter-widgets/base",
            "_model_module_version": "1.2.0",
            "_model_name": "LayoutModel",
            "_view_count": null,
            "_view_module": "@jupyter-widgets/base",
            "_view_module_version": "1.2.0",
            "_view_name": "LayoutView",
            "align_content": null,
            "align_items": null,
            "align_self": null,
            "border": null,
            "bottom": null,
            "display": null,
            "flex": null,
            "flex_flow": null,
            "grid_area": null,
            "grid_auto_columns": null,
            "grid_auto_flow": null,
            "grid_auto_rows": null,
            "grid_column": null,
            "grid_gap": null,
            "grid_row": null,
            "grid_template_areas": null,
            "grid_template_columns": null,
            "grid_template_rows": null,
            "height": null,
            "justify_content": null,
            "justify_items": null,
            "left": null,
            "margin": null,
            "max_height": null,
            "max_width": null,
            "min_height": null,
            "min_width": null,
            "object_fit": null,
            "object_position": null,
            "order": null,
            "overflow": null,
            "overflow_x": null,
            "overflow_y": null,
            "padding": null,
            "right": null,
            "top": null,
            "visibility": null,
            "width": null
          }
        },
        "447bd6022b384225a5b27fcae1ccf5ef": {
          "model_module": "@jupyter-widgets/base",
          "model_name": "LayoutModel",
          "model_module_version": "1.2.0",
          "state": {
            "_model_module": "@jupyter-widgets/base",
            "_model_module_version": "1.2.0",
            "_model_name": "LayoutModel",
            "_view_count": null,
            "_view_module": "@jupyter-widgets/base",
            "_view_module_version": "1.2.0",
            "_view_name": "LayoutView",
            "align_content": null,
            "align_items": null,
            "align_self": null,
            "border": null,
            "bottom": null,
            "display": null,
            "flex": null,
            "flex_flow": null,
            "grid_area": null,
            "grid_auto_columns": null,
            "grid_auto_flow": null,
            "grid_auto_rows": null,
            "grid_column": null,
            "grid_gap": null,
            "grid_row": null,
            "grid_template_areas": null,
            "grid_template_columns": null,
            "grid_template_rows": null,
            "height": null,
            "justify_content": null,
            "justify_items": null,
            "left": null,
            "margin": null,
            "max_height": null,
            "max_width": null,
            "min_height": null,
            "min_width": null,
            "object_fit": null,
            "object_position": null,
            "order": null,
            "overflow": null,
            "overflow_x": null,
            "overflow_y": null,
            "padding": null,
            "right": null,
            "top": null,
            "visibility": null,
            "width": null
          }
        },
        "fc9707eeb8ba47a29ce1aefbc341c220": {
          "model_module": "@jupyter-widgets/controls",
          "model_name": "DescriptionStyleModel",
          "model_module_version": "1.5.0",
          "state": {
            "_model_module": "@jupyter-widgets/controls",
            "_model_module_version": "1.5.0",
            "_model_name": "DescriptionStyleModel",
            "_view_count": null,
            "_view_module": "@jupyter-widgets/base",
            "_view_module_version": "1.2.0",
            "_view_name": "StyleView",
            "description_width": ""
          }
        },
        "d25458027c2a474a8086b2a8015014ac": {
          "model_module": "@jupyter-widgets/base",
          "model_name": "LayoutModel",
          "model_module_version": "1.2.0",
          "state": {
            "_model_module": "@jupyter-widgets/base",
            "_model_module_version": "1.2.0",
            "_model_name": "LayoutModel",
            "_view_count": null,
            "_view_module": "@jupyter-widgets/base",
            "_view_module_version": "1.2.0",
            "_view_name": "LayoutView",
            "align_content": null,
            "align_items": null,
            "align_self": null,
            "border": null,
            "bottom": null,
            "display": null,
            "flex": null,
            "flex_flow": null,
            "grid_area": null,
            "grid_auto_columns": null,
            "grid_auto_flow": null,
            "grid_auto_rows": null,
            "grid_column": null,
            "grid_gap": null,
            "grid_row": null,
            "grid_template_areas": null,
            "grid_template_columns": null,
            "grid_template_rows": null,
            "height": null,
            "justify_content": null,
            "justify_items": null,
            "left": null,
            "margin": null,
            "max_height": null,
            "max_width": null,
            "min_height": null,
            "min_width": null,
            "object_fit": null,
            "object_position": null,
            "order": null,
            "overflow": null,
            "overflow_x": null,
            "overflow_y": null,
            "padding": null,
            "right": null,
            "top": null,
            "visibility": null,
            "width": null
          }
        },
        "eab2d5282f0d41b9aab3141e81d03a97": {
          "model_module": "@jupyter-widgets/controls",
          "model_name": "ProgressStyleModel",
          "model_module_version": "1.5.0",
          "state": {
            "_model_module": "@jupyter-widgets/controls",
            "_model_module_version": "1.5.0",
            "_model_name": "ProgressStyleModel",
            "_view_count": null,
            "_view_module": "@jupyter-widgets/base",
            "_view_module_version": "1.2.0",
            "_view_name": "StyleView",
            "bar_color": null,
            "description_width": ""
          }
        },
        "53885949c4ac423eb44001f9ffd05e45": {
          "model_module": "@jupyter-widgets/base",
          "model_name": "LayoutModel",
          "model_module_version": "1.2.0",
          "state": {
            "_model_module": "@jupyter-widgets/base",
            "_model_module_version": "1.2.0",
            "_model_name": "LayoutModel",
            "_view_count": null,
            "_view_module": "@jupyter-widgets/base",
            "_view_module_version": "1.2.0",
            "_view_name": "LayoutView",
            "align_content": null,
            "align_items": null,
            "align_self": null,
            "border": null,
            "bottom": null,
            "display": null,
            "flex": null,
            "flex_flow": null,
            "grid_area": null,
            "grid_auto_columns": null,
            "grid_auto_flow": null,
            "grid_auto_rows": null,
            "grid_column": null,
            "grid_gap": null,
            "grid_row": null,
            "grid_template_areas": null,
            "grid_template_columns": null,
            "grid_template_rows": null,
            "height": null,
            "justify_content": null,
            "justify_items": null,
            "left": null,
            "margin": null,
            "max_height": null,
            "max_width": null,
            "min_height": null,
            "min_width": null,
            "object_fit": null,
            "object_position": null,
            "order": null,
            "overflow": null,
            "overflow_x": null,
            "overflow_y": null,
            "padding": null,
            "right": null,
            "top": null,
            "visibility": null,
            "width": null
          }
        },
        "d480f9b846654484b8f0218bf5d6c108": {
          "model_module": "@jupyter-widgets/controls",
          "model_name": "DescriptionStyleModel",
          "model_module_version": "1.5.0",
          "state": {
            "_model_module": "@jupyter-widgets/controls",
            "_model_module_version": "1.5.0",
            "_model_name": "DescriptionStyleModel",
            "_view_count": null,
            "_view_module": "@jupyter-widgets/base",
            "_view_module_version": "1.2.0",
            "_view_name": "StyleView",
            "description_width": ""
          }
        },
        "e595951223004336920f0871e3fc1cce": {
          "model_module": "@jupyter-widgets/controls",
          "model_name": "HBoxModel",
          "model_module_version": "1.5.0",
          "state": {
            "_dom_classes": [],
            "_model_module": "@jupyter-widgets/controls",
            "_model_module_version": "1.5.0",
            "_model_name": "HBoxModel",
            "_view_count": null,
            "_view_module": "@jupyter-widgets/controls",
            "_view_module_version": "1.5.0",
            "_view_name": "HBoxView",
            "box_style": "",
            "children": [
              "IPY_MODEL_5d074707824e4cc9988eb143a482f80e",
              "IPY_MODEL_ed7ef575e65740eebf8d8eb7b5a6a76b",
              "IPY_MODEL_285861b6eac84af1b54faba085ab0048"
            ],
            "layout": "IPY_MODEL_1b4f4cf028b04366b70f820644e86efe"
          }
        },
        "5d074707824e4cc9988eb143a482f80e": {
          "model_module": "@jupyter-widgets/controls",
          "model_name": "HTMLModel",
          "model_module_version": "1.5.0",
          "state": {
            "_dom_classes": [],
            "_model_module": "@jupyter-widgets/controls",
            "_model_module_version": "1.5.0",
            "_model_name": "HTMLModel",
            "_view_count": null,
            "_view_module": "@jupyter-widgets/controls",
            "_view_module_version": "1.5.0",
            "_view_name": "HTMLView",
            "description": "",
            "description_tooltip": null,
            "layout": "IPY_MODEL_e8a32e230fd64404a10be03667b3a889",
            "placeholder": "​",
            "style": "IPY_MODEL_c534eed4258141ab9acc5df99bacc2ed",
            "value": "Downloading (…)lve/main/config.json: 100%"
          }
        },
        "ed7ef575e65740eebf8d8eb7b5a6a76b": {
          "model_module": "@jupyter-widgets/controls",
          "model_name": "FloatProgressModel",
          "model_module_version": "1.5.0",
          "state": {
            "_dom_classes": [],
            "_model_module": "@jupyter-widgets/controls",
            "_model_module_version": "1.5.0",
            "_model_name": "FloatProgressModel",
            "_view_count": null,
            "_view_module": "@jupyter-widgets/controls",
            "_view_module_version": "1.5.0",
            "_view_name": "ProgressView",
            "bar_style": "success",
            "description": "",
            "description_tooltip": null,
            "layout": "IPY_MODEL_9eb393401d964605908ff4bd5227ac9b",
            "max": 548,
            "min": 0,
            "orientation": "horizontal",
            "style": "IPY_MODEL_efd378c78f5248c39f3e89771c9ea84b",
            "value": 548
          }
        },
        "285861b6eac84af1b54faba085ab0048": {
          "model_module": "@jupyter-widgets/controls",
          "model_name": "HTMLModel",
          "model_module_version": "1.5.0",
          "state": {
            "_dom_classes": [],
            "_model_module": "@jupyter-widgets/controls",
            "_model_module_version": "1.5.0",
            "_model_name": "HTMLModel",
            "_view_count": null,
            "_view_module": "@jupyter-widgets/controls",
            "_view_module_version": "1.5.0",
            "_view_name": "HTMLView",
            "description": "",
            "description_tooltip": null,
            "layout": "IPY_MODEL_15c6fc2b559a401d8a1f46aa007975af",
            "placeholder": "​",
            "style": "IPY_MODEL_00ae8c34539e43e1a271a2ebd33ceb5d",
            "value": " 548/548 [00:00&lt;00:00, 40.8kB/s]"
          }
        },
        "1b4f4cf028b04366b70f820644e86efe": {
          "model_module": "@jupyter-widgets/base",
          "model_name": "LayoutModel",
          "model_module_version": "1.2.0",
          "state": {
            "_model_module": "@jupyter-widgets/base",
            "_model_module_version": "1.2.0",
            "_model_name": "LayoutModel",
            "_view_count": null,
            "_view_module": "@jupyter-widgets/base",
            "_view_module_version": "1.2.0",
            "_view_name": "LayoutView",
            "align_content": null,
            "align_items": null,
            "align_self": null,
            "border": null,
            "bottom": null,
            "display": null,
            "flex": null,
            "flex_flow": null,
            "grid_area": null,
            "grid_auto_columns": null,
            "grid_auto_flow": null,
            "grid_auto_rows": null,
            "grid_column": null,
            "grid_gap": null,
            "grid_row": null,
            "grid_template_areas": null,
            "grid_template_columns": null,
            "grid_template_rows": null,
            "height": null,
            "justify_content": null,
            "justify_items": null,
            "left": null,
            "margin": null,
            "max_height": null,
            "max_width": null,
            "min_height": null,
            "min_width": null,
            "object_fit": null,
            "object_position": null,
            "order": null,
            "overflow": null,
            "overflow_x": null,
            "overflow_y": null,
            "padding": null,
            "right": null,
            "top": null,
            "visibility": null,
            "width": null
          }
        },
        "e8a32e230fd64404a10be03667b3a889": {
          "model_module": "@jupyter-widgets/base",
          "model_name": "LayoutModel",
          "model_module_version": "1.2.0",
          "state": {
            "_model_module": "@jupyter-widgets/base",
            "_model_module_version": "1.2.0",
            "_model_name": "LayoutModel",
            "_view_count": null,
            "_view_module": "@jupyter-widgets/base",
            "_view_module_version": "1.2.0",
            "_view_name": "LayoutView",
            "align_content": null,
            "align_items": null,
            "align_self": null,
            "border": null,
            "bottom": null,
            "display": null,
            "flex": null,
            "flex_flow": null,
            "grid_area": null,
            "grid_auto_columns": null,
            "grid_auto_flow": null,
            "grid_auto_rows": null,
            "grid_column": null,
            "grid_gap": null,
            "grid_row": null,
            "grid_template_areas": null,
            "grid_template_columns": null,
            "grid_template_rows": null,
            "height": null,
            "justify_content": null,
            "justify_items": null,
            "left": null,
            "margin": null,
            "max_height": null,
            "max_width": null,
            "min_height": null,
            "min_width": null,
            "object_fit": null,
            "object_position": null,
            "order": null,
            "overflow": null,
            "overflow_x": null,
            "overflow_y": null,
            "padding": null,
            "right": null,
            "top": null,
            "visibility": null,
            "width": null
          }
        },
        "c534eed4258141ab9acc5df99bacc2ed": {
          "model_module": "@jupyter-widgets/controls",
          "model_name": "DescriptionStyleModel",
          "model_module_version": "1.5.0",
          "state": {
            "_model_module": "@jupyter-widgets/controls",
            "_model_module_version": "1.5.0",
            "_model_name": "DescriptionStyleModel",
            "_view_count": null,
            "_view_module": "@jupyter-widgets/base",
            "_view_module_version": "1.2.0",
            "_view_name": "StyleView",
            "description_width": ""
          }
        },
        "9eb393401d964605908ff4bd5227ac9b": {
          "model_module": "@jupyter-widgets/base",
          "model_name": "LayoutModel",
          "model_module_version": "1.2.0",
          "state": {
            "_model_module": "@jupyter-widgets/base",
            "_model_module_version": "1.2.0",
            "_model_name": "LayoutModel",
            "_view_count": null,
            "_view_module": "@jupyter-widgets/base",
            "_view_module_version": "1.2.0",
            "_view_name": "LayoutView",
            "align_content": null,
            "align_items": null,
            "align_self": null,
            "border": null,
            "bottom": null,
            "display": null,
            "flex": null,
            "flex_flow": null,
            "grid_area": null,
            "grid_auto_columns": null,
            "grid_auto_flow": null,
            "grid_auto_rows": null,
            "grid_column": null,
            "grid_gap": null,
            "grid_row": null,
            "grid_template_areas": null,
            "grid_template_columns": null,
            "grid_template_rows": null,
            "height": null,
            "justify_content": null,
            "justify_items": null,
            "left": null,
            "margin": null,
            "max_height": null,
            "max_width": null,
            "min_height": null,
            "min_width": null,
            "object_fit": null,
            "object_position": null,
            "order": null,
            "overflow": null,
            "overflow_x": null,
            "overflow_y": null,
            "padding": null,
            "right": null,
            "top": null,
            "visibility": null,
            "width": null
          }
        },
        "efd378c78f5248c39f3e89771c9ea84b": {
          "model_module": "@jupyter-widgets/controls",
          "model_name": "ProgressStyleModel",
          "model_module_version": "1.5.0",
          "state": {
            "_model_module": "@jupyter-widgets/controls",
            "_model_module_version": "1.5.0",
            "_model_name": "ProgressStyleModel",
            "_view_count": null,
            "_view_module": "@jupyter-widgets/base",
            "_view_module_version": "1.2.0",
            "_view_name": "StyleView",
            "bar_color": null,
            "description_width": ""
          }
        },
        "15c6fc2b559a401d8a1f46aa007975af": {
          "model_module": "@jupyter-widgets/base",
          "model_name": "LayoutModel",
          "model_module_version": "1.2.0",
          "state": {
            "_model_module": "@jupyter-widgets/base",
            "_model_module_version": "1.2.0",
            "_model_name": "LayoutModel",
            "_view_count": null,
            "_view_module": "@jupyter-widgets/base",
            "_view_module_version": "1.2.0",
            "_view_name": "LayoutView",
            "align_content": null,
            "align_items": null,
            "align_self": null,
            "border": null,
            "bottom": null,
            "display": null,
            "flex": null,
            "flex_flow": null,
            "grid_area": null,
            "grid_auto_columns": null,
            "grid_auto_flow": null,
            "grid_auto_rows": null,
            "grid_column": null,
            "grid_gap": null,
            "grid_row": null,
            "grid_template_areas": null,
            "grid_template_columns": null,
            "grid_template_rows": null,
            "height": null,
            "justify_content": null,
            "justify_items": null,
            "left": null,
            "margin": null,
            "max_height": null,
            "max_width": null,
            "min_height": null,
            "min_width": null,
            "object_fit": null,
            "object_position": null,
            "order": null,
            "overflow": null,
            "overflow_x": null,
            "overflow_y": null,
            "padding": null,
            "right": null,
            "top": null,
            "visibility": null,
            "width": null
          }
        },
        "00ae8c34539e43e1a271a2ebd33ceb5d": {
          "model_module": "@jupyter-widgets/controls",
          "model_name": "DescriptionStyleModel",
          "model_module_version": "1.5.0",
          "state": {
            "_model_module": "@jupyter-widgets/controls",
            "_model_module_version": "1.5.0",
            "_model_name": "DescriptionStyleModel",
            "_view_count": null,
            "_view_module": "@jupyter-widgets/base",
            "_view_module_version": "1.2.0",
            "_view_name": "StyleView",
            "description_width": ""
          }
        },
        "3877c8c3b9d747b48b5bea25cc76aefd": {
          "model_module": "@jupyter-widgets/controls",
          "model_name": "HBoxModel",
          "model_module_version": "1.5.0",
          "state": {
            "_dom_classes": [],
            "_model_module": "@jupyter-widgets/controls",
            "_model_module_version": "1.5.0",
            "_model_name": "HBoxModel",
            "_view_count": null,
            "_view_module": "@jupyter-widgets/controls",
            "_view_module_version": "1.5.0",
            "_view_name": "HBoxView",
            "box_style": "",
            "children": [
              "IPY_MODEL_1da4a10f5f7a4409ac85d3e4241b7a42",
              "IPY_MODEL_9443c9ba3ca04f0c873a1fbeb8a3ad46",
              "IPY_MODEL_b8c47e52a2034285819c4de65d28284c"
            ],
            "layout": "IPY_MODEL_d08914f4a0134d51ad2bc21e1a661d96"
          }
        },
        "1da4a10f5f7a4409ac85d3e4241b7a42": {
          "model_module": "@jupyter-widgets/controls",
          "model_name": "HTMLModel",
          "model_module_version": "1.5.0",
          "state": {
            "_dom_classes": [],
            "_model_module": "@jupyter-widgets/controls",
            "_model_module_version": "1.5.0",
            "_model_name": "HTMLModel",
            "_view_count": null,
            "_view_module": "@jupyter-widgets/controls",
            "_view_module_version": "1.5.0",
            "_view_name": "HTMLView",
            "description": "",
            "description_tooltip": null,
            "layout": "IPY_MODEL_f99259026538434f8a56766c0c494ca6",
            "placeholder": "​",
            "style": "IPY_MODEL_d1e7f1561da14b47b9df28a1b90231ce",
            "value": "Downloading model.safetensors: 100%"
          }
        },
        "9443c9ba3ca04f0c873a1fbeb8a3ad46": {
          "model_module": "@jupyter-widgets/controls",
          "model_name": "FloatProgressModel",
          "model_module_version": "1.5.0",
          "state": {
            "_dom_classes": [],
            "_model_module": "@jupyter-widgets/controls",
            "_model_module_version": "1.5.0",
            "_model_name": "FloatProgressModel",
            "_view_count": null,
            "_view_module": "@jupyter-widgets/controls",
            "_view_module_version": "1.5.0",
            "_view_name": "ProgressView",
            "bar_style": "success",
            "description": "",
            "description_tooltip": null,
            "layout": "IPY_MODEL_9b8e7466841b464487f83d7a5b4a1a06",
            "max": 4546005432,
            "min": 0,
            "orientation": "horizontal",
            "style": "IPY_MODEL_5a05334a87004e14ae2a432d70ccb175",
            "value": 4546005432
          }
        },
        "b8c47e52a2034285819c4de65d28284c": {
          "model_module": "@jupyter-widgets/controls",
          "model_name": "HTMLModel",
          "model_module_version": "1.5.0",
          "state": {
            "_dom_classes": [],
            "_model_module": "@jupyter-widgets/controls",
            "_model_module_version": "1.5.0",
            "_model_name": "HTMLModel",
            "_view_count": null,
            "_view_module": "@jupyter-widgets/controls",
            "_view_module_version": "1.5.0",
            "_view_name": "HTMLView",
            "description": "",
            "description_tooltip": null,
            "layout": "IPY_MODEL_5036f96160f64086bc0b1b797cf88a67",
            "placeholder": "​",
            "style": "IPY_MODEL_4f9c1c514f0f47d29bc1beb7adf95ff1",
            "value": " 4.55G/4.55G [00:27&lt;00:00, 269MB/s]"
          }
        },
        "d08914f4a0134d51ad2bc21e1a661d96": {
          "model_module": "@jupyter-widgets/base",
          "model_name": "LayoutModel",
          "model_module_version": "1.2.0",
          "state": {
            "_model_module": "@jupyter-widgets/base",
            "_model_module_version": "1.2.0",
            "_model_name": "LayoutModel",
            "_view_count": null,
            "_view_module": "@jupyter-widgets/base",
            "_view_module_version": "1.2.0",
            "_view_name": "LayoutView",
            "align_content": null,
            "align_items": null,
            "align_self": null,
            "border": null,
            "bottom": null,
            "display": null,
            "flex": null,
            "flex_flow": null,
            "grid_area": null,
            "grid_auto_columns": null,
            "grid_auto_flow": null,
            "grid_auto_rows": null,
            "grid_column": null,
            "grid_gap": null,
            "grid_row": null,
            "grid_template_areas": null,
            "grid_template_columns": null,
            "grid_template_rows": null,
            "height": null,
            "justify_content": null,
            "justify_items": null,
            "left": null,
            "margin": null,
            "max_height": null,
            "max_width": null,
            "min_height": null,
            "min_width": null,
            "object_fit": null,
            "object_position": null,
            "order": null,
            "overflow": null,
            "overflow_x": null,
            "overflow_y": null,
            "padding": null,
            "right": null,
            "top": null,
            "visibility": null,
            "width": null
          }
        },
        "f99259026538434f8a56766c0c494ca6": {
          "model_module": "@jupyter-widgets/base",
          "model_name": "LayoutModel",
          "model_module_version": "1.2.0",
          "state": {
            "_model_module": "@jupyter-widgets/base",
            "_model_module_version": "1.2.0",
            "_model_name": "LayoutModel",
            "_view_count": null,
            "_view_module": "@jupyter-widgets/base",
            "_view_module_version": "1.2.0",
            "_view_name": "LayoutView",
            "align_content": null,
            "align_items": null,
            "align_self": null,
            "border": null,
            "bottom": null,
            "display": null,
            "flex": null,
            "flex_flow": null,
            "grid_area": null,
            "grid_auto_columns": null,
            "grid_auto_flow": null,
            "grid_auto_rows": null,
            "grid_column": null,
            "grid_gap": null,
            "grid_row": null,
            "grid_template_areas": null,
            "grid_template_columns": null,
            "grid_template_rows": null,
            "height": null,
            "justify_content": null,
            "justify_items": null,
            "left": null,
            "margin": null,
            "max_height": null,
            "max_width": null,
            "min_height": null,
            "min_width": null,
            "object_fit": null,
            "object_position": null,
            "order": null,
            "overflow": null,
            "overflow_x": null,
            "overflow_y": null,
            "padding": null,
            "right": null,
            "top": null,
            "visibility": null,
            "width": null
          }
        },
        "d1e7f1561da14b47b9df28a1b90231ce": {
          "model_module": "@jupyter-widgets/controls",
          "model_name": "DescriptionStyleModel",
          "model_module_version": "1.5.0",
          "state": {
            "_model_module": "@jupyter-widgets/controls",
            "_model_module_version": "1.5.0",
            "_model_name": "DescriptionStyleModel",
            "_view_count": null,
            "_view_module": "@jupyter-widgets/base",
            "_view_module_version": "1.2.0",
            "_view_name": "StyleView",
            "description_width": ""
          }
        },
        "9b8e7466841b464487f83d7a5b4a1a06": {
          "model_module": "@jupyter-widgets/base",
          "model_name": "LayoutModel",
          "model_module_version": "1.2.0",
          "state": {
            "_model_module": "@jupyter-widgets/base",
            "_model_module_version": "1.2.0",
            "_model_name": "LayoutModel",
            "_view_count": null,
            "_view_module": "@jupyter-widgets/base",
            "_view_module_version": "1.2.0",
            "_view_name": "LayoutView",
            "align_content": null,
            "align_items": null,
            "align_self": null,
            "border": null,
            "bottom": null,
            "display": null,
            "flex": null,
            "flex_flow": null,
            "grid_area": null,
            "grid_auto_columns": null,
            "grid_auto_flow": null,
            "grid_auto_rows": null,
            "grid_column": null,
            "grid_gap": null,
            "grid_row": null,
            "grid_template_areas": null,
            "grid_template_columns": null,
            "grid_template_rows": null,
            "height": null,
            "justify_content": null,
            "justify_items": null,
            "left": null,
            "margin": null,
            "max_height": null,
            "max_width": null,
            "min_height": null,
            "min_width": null,
            "object_fit": null,
            "object_position": null,
            "order": null,
            "overflow": null,
            "overflow_x": null,
            "overflow_y": null,
            "padding": null,
            "right": null,
            "top": null,
            "visibility": null,
            "width": null
          }
        },
        "5a05334a87004e14ae2a432d70ccb175": {
          "model_module": "@jupyter-widgets/controls",
          "model_name": "ProgressStyleModel",
          "model_module_version": "1.5.0",
          "state": {
            "_model_module": "@jupyter-widgets/controls",
            "_model_module_version": "1.5.0",
            "_model_name": "ProgressStyleModel",
            "_view_count": null,
            "_view_module": "@jupyter-widgets/base",
            "_view_module_version": "1.2.0",
            "_view_name": "StyleView",
            "bar_color": null,
            "description_width": ""
          }
        },
        "5036f96160f64086bc0b1b797cf88a67": {
          "model_module": "@jupyter-widgets/base",
          "model_name": "LayoutModel",
          "model_module_version": "1.2.0",
          "state": {
            "_model_module": "@jupyter-widgets/base",
            "_model_module_version": "1.2.0",
            "_model_name": "LayoutModel",
            "_view_count": null,
            "_view_module": "@jupyter-widgets/base",
            "_view_module_version": "1.2.0",
            "_view_name": "LayoutView",
            "align_content": null,
            "align_items": null,
            "align_self": null,
            "border": null,
            "bottom": null,
            "display": null,
            "flex": null,
            "flex_flow": null,
            "grid_area": null,
            "grid_auto_columns": null,
            "grid_auto_flow": null,
            "grid_auto_rows": null,
            "grid_column": null,
            "grid_gap": null,
            "grid_row": null,
            "grid_template_areas": null,
            "grid_template_columns": null,
            "grid_template_rows": null,
            "height": null,
            "justify_content": null,
            "justify_items": null,
            "left": null,
            "margin": null,
            "max_height": null,
            "max_width": null,
            "min_height": null,
            "min_width": null,
            "object_fit": null,
            "object_position": null,
            "order": null,
            "overflow": null,
            "overflow_x": null,
            "overflow_y": null,
            "padding": null,
            "right": null,
            "top": null,
            "visibility": null,
            "width": null
          }
        },
        "4f9c1c514f0f47d29bc1beb7adf95ff1": {
          "model_module": "@jupyter-widgets/controls",
          "model_name": "DescriptionStyleModel",
          "model_module_version": "1.5.0",
          "state": {
            "_model_module": "@jupyter-widgets/controls",
            "_model_module_version": "1.5.0",
            "_model_name": "DescriptionStyleModel",
            "_view_count": null,
            "_view_module": "@jupyter-widgets/base",
            "_view_module_version": "1.2.0",
            "_view_name": "StyleView",
            "description_width": ""
          }
        }
      }
    },
    "accelerator": "GPU"
  },
  "nbformat": 4,
  "nbformat_minor": 0
}